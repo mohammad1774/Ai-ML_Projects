{
 "cells": [
  {
   "cell_type": "code",
   "execution_count": 3,
   "id": "b2a14751",
   "metadata": {},
   "outputs": [],
   "source": [
    "import pandas as pd\n",
    "import re\n",
    "import numpy as np\n",
    "from collections import Counter\n",
    "import spacy\n",
    "from sklearn.model_selection import train_test_split\n",
    "import seaborn as sns\n",
    "import matplotlib.pyplot as plt\n",
    "from sklearn.linear_model import LogisticRegression as lr\n",
    "from sklearn.metrics import confusion_matrix, roc_auc_score"
   ]
  },
  {
   "cell_type": "code",
   "execution_count": 4,
   "id": "6f64d410",
   "metadata": {},
   "outputs": [],
   "source": [
    "df = pd.read_csv('train.csv')"
   ]
  },
  {
   "cell_type": "code",
   "execution_count": 5,
   "id": "6a63b44d",
   "metadata": {},
   "outputs": [],
   "source": [
    "df.columns = ['rating','review']"
   ]
  },
  {
   "cell_type": "code",
   "execution_count": 6,
   "id": "095648f1",
   "metadata": {},
   "outputs": [],
   "source": [
    "df = df.iloc[:50000,]"
   ]
  },
  {
   "cell_type": "code",
   "execution_count": 7,
   "id": "c5f8f486",
   "metadata": {},
   "outputs": [
    {
     "data": {
      "text/html": [
       "<div>\n",
       "<style scoped>\n",
       "    .dataframe tbody tr th:only-of-type {\n",
       "        vertical-align: middle;\n",
       "    }\n",
       "\n",
       "    .dataframe tbody tr th {\n",
       "        vertical-align: top;\n",
       "    }\n",
       "\n",
       "    .dataframe thead th {\n",
       "        text-align: right;\n",
       "    }\n",
       "</style>\n",
       "<table border=\"1\" class=\"dataframe\">\n",
       "  <thead>\n",
       "    <tr style=\"text-align: right;\">\n",
       "      <th></th>\n",
       "      <th>rating</th>\n",
       "      <th>review</th>\n",
       "    </tr>\n",
       "  </thead>\n",
       "  <tbody>\n",
       "    <tr>\n",
       "      <th>0</th>\n",
       "      <td>2</td>\n",
       "      <td>Been going to Dr. Goldberg for over 10 years. ...</td>\n",
       "    </tr>\n",
       "    <tr>\n",
       "      <th>1</th>\n",
       "      <td>1</td>\n",
       "      <td>I don't know what Dr. Goldberg was like before...</td>\n",
       "    </tr>\n",
       "    <tr>\n",
       "      <th>2</th>\n",
       "      <td>1</td>\n",
       "      <td>I'm writing this review to give you a heads up...</td>\n",
       "    </tr>\n",
       "    <tr>\n",
       "      <th>3</th>\n",
       "      <td>2</td>\n",
       "      <td>All the food is great here. But the best thing...</td>\n",
       "    </tr>\n",
       "    <tr>\n",
       "      <th>4</th>\n",
       "      <td>1</td>\n",
       "      <td>Wing sauce is like water. Pretty much a lot of...</td>\n",
       "    </tr>\n",
       "    <tr>\n",
       "      <th>...</th>\n",
       "      <td>...</td>\n",
       "      <td>...</td>\n",
       "    </tr>\n",
       "    <tr>\n",
       "      <th>49995</th>\n",
       "      <td>1</td>\n",
       "      <td>whats the DSW stand for in their name? ill tel...</td>\n",
       "    </tr>\n",
       "    <tr>\n",
       "      <th>49996</th>\n",
       "      <td>1</td>\n",
       "      <td>I was not a frequent dsw customer, but had bee...</td>\n",
       "    </tr>\n",
       "    <tr>\n",
       "      <th>49997</th>\n",
       "      <td>1</td>\n",
       "      <td>So I responded via email per request to the CS...</td>\n",
       "    </tr>\n",
       "    <tr>\n",
       "      <th>49998</th>\n",
       "      <td>1</td>\n",
       "      <td>Once again, another fast food place strives fo...</td>\n",
       "    </tr>\n",
       "    <tr>\n",
       "      <th>49999</th>\n",
       "      <td>1</td>\n",
       "      <td>It just isn't as good as it used to be. Even u...</td>\n",
       "    </tr>\n",
       "  </tbody>\n",
       "</table>\n",
       "<p>50000 rows × 2 columns</p>\n",
       "</div>"
      ],
      "text/plain": [
       "       rating                                             review\n",
       "0           2  Been going to Dr. Goldberg for over 10 years. ...\n",
       "1           1  I don't know what Dr. Goldberg was like before...\n",
       "2           1  I'm writing this review to give you a heads up...\n",
       "3           2  All the food is great here. But the best thing...\n",
       "4           1  Wing sauce is like water. Pretty much a lot of...\n",
       "...       ...                                                ...\n",
       "49995       1  whats the DSW stand for in their name? ill tel...\n",
       "49996       1  I was not a frequent dsw customer, but had bee...\n",
       "49997       1  So I responded via email per request to the CS...\n",
       "49998       1  Once again, another fast food place strives fo...\n",
       "49999       1  It just isn't as good as it used to be. Even u...\n",
       "\n",
       "[50000 rows x 2 columns]"
      ]
     },
     "execution_count": 7,
     "metadata": {},
     "output_type": "execute_result"
    }
   ],
   "source": [
    "df"
   ]
  },
  {
   "cell_type": "code",
   "execution_count": 8,
   "id": "ef4bf15d",
   "metadata": {},
   "outputs": [
    {
     "data": {
      "text/plain": [
       "1    26831\n",
       "2    23169\n",
       "Name: rating, dtype: int64"
      ]
     },
     "execution_count": 8,
     "metadata": {},
     "output_type": "execute_result"
    }
   ],
   "source": [
    "df.rating.value_counts()"
   ]
  },
  {
   "cell_type": "markdown",
   "id": "e05f4ece",
   "metadata": {},
   "source": [
    "## Creating Vocabulary:"
   ]
  },
  {
   "cell_type": "code",
   "execution_count": 9,
   "id": "c57c6db8",
   "metadata": {},
   "outputs": [],
   "source": [
    "vocab = {}"
   ]
  },
  {
   "cell_type": "markdown",
   "id": "47a6699e",
   "metadata": {},
   "source": [
    "### Initialize:\n",
    "    we will create a dictionery containing keys 't_2_i','i_2_t','unkToken','unkTokenIdx'\n",
    "    \n",
    "    t_2_i stores dictionery of keys as tokens and their id's as values\n",
    "    i_2_t stores dictionery of keys as id's and their tokens as values\n",
    "    unkToken is key for <UNK>\n",
    "    unkToken is key for id of <UNK>"
   ]
  },
  {
   "cell_type": "code",
   "execution_count": 10,
   "id": "5f076696",
   "metadata": {},
   "outputs": [],
   "source": [
    "def initializeVocabulary():\n",
    "    unkToken = '<UNK>'\n",
    "    vocab['t_2_i'] = {}\n",
    "    vocab['i_2_t'] = {}\n",
    "    vocab['unkToken'] = unkToken\n",
    "    idx = addToken(unkToken)\n",
    "    vocab['unkTokenIdx']= idx"
   ]
  },
  {
   "cell_type": "markdown",
   "id": "43f8c73e",
   "metadata": {},
   "source": [
    "### Add Token-Id pair:\n",
    "    we will be adding the token-id pair in the dictionery of vocab."
   ]
  },
  {
   "cell_type": "code",
   "execution_count": 11,
   "id": "5633b3b5",
   "metadata": {},
   "outputs": [],
   "source": [
    "def addToken(token):\n",
    "    if token in vocab['t_2_i']:\n",
    "        idx = vocab['t_2_i'][token]\n",
    "    else:\n",
    "        idx = len(vocab['t_2_i'])\n",
    "        vocab['t_2_i'][token] = idx\n",
    "        vocab['i_2_t'][idx] = token\n",
    "    return idx"
   ]
  },
  {
   "cell_type": "code",
   "execution_count": 12,
   "id": "ee8e27a0",
   "metadata": {},
   "outputs": [],
   "source": [
    "def addManyTokens(tokens):\n",
    "    idexs = [addToken(token) for token in tokens]\n",
    "    return idexs"
   ]
  },
  {
   "cell_type": "markdown",
   "id": "5ef74340",
   "metadata": {},
   "source": [
    "### Look Up:\n",
    "    This functions enable us to get the id by giving token and vis-a-vis for token."
   ]
  },
  {
   "cell_type": "code",
   "execution_count": 13,
   "id": "21158222",
   "metadata": {},
   "outputs": [],
   "source": [
    "def lookUpToken(token):\n",
    "    if vocab['unkTokenIdx']>=0:\n",
    "        return vocab['t_2_i'].get(token,vocab['unkTokenIdx'])\n",
    "    else:\n",
    "        return vocab['t_2_i'][token]"
   ]
  },
  {
   "cell_type": "code",
   "execution_count": 14,
   "id": "9e664a97",
   "metadata": {},
   "outputs": [],
   "source": [
    "def lookUpIndex(idx):\n",
    "    if idx not in vocab['i_2_t']:\n",
    "        raise KeyError(f'The Index {idx} is not present')\n",
    "    return vocab['i_2_t'][idx]"
   ]
  },
  {
   "cell_type": "code",
   "execution_count": null,
   "id": "cace9332",
   "metadata": {},
   "outputs": [],
   "source": []
  },
  {
   "cell_type": "markdown",
   "id": "15f72b49",
   "metadata": {},
   "source": [
    "### Vocabulary creation:\n",
    "    \n",
    "    This function lets us create Vocabulary dictionery , we can either parse pandas Dataframe or Numpy array usually called corpus."
   ]
  },
  {
   "cell_type": "code",
   "execution_count": 15,
   "id": "e92088d1",
   "metadata": {},
   "outputs": [],
   "source": [
    "def vocabularyFromDataFrame(df,cutoff=25):\n",
    "    initializeVocabulary()\n",
    "    wordCounts = Counter()\n",
    "    for r in df.review:\n",
    "        for word in re.split('\\W+',r):\n",
    "            wordCounts[word] += 1\n",
    "    for word,count in wordCounts.items():\n",
    "        if count>cutoff:\n",
    "            addToken(word)\n",
    "        "
   ]
  },
  {
   "cell_type": "code",
   "execution_count": 16,
   "id": "e945b926",
   "metadata": {},
   "outputs": [],
   "source": [
    "def vocabularyFromCorpus(corpus,cutoff=25):\n",
    "    initializeVocabulary()\n",
    "    wordCounts = Counter()\n",
    "    for doc in corpus:\n",
    "        for word in re.split('\\W+',doc):\n",
    "            wordCounts[word] += 1\n",
    "    for word,count in wordCounts.items():\n",
    "        if count>cutoff:\n",
    "            addToken(word)\n",
    "        "
   ]
  },
  {
   "cell_type": "code",
   "execution_count": 17,
   "id": "51ba75f0",
   "metadata": {},
   "outputs": [],
   "source": [
    "x = np.asarray(df['review'])\n",
    "vocabularyFromCorpus(x)"
   ]
  },
  {
   "cell_type": "code",
   "execution_count": 18,
   "id": "4cd66680",
   "metadata": {},
   "outputs": [],
   "source": [
    "vocabularyFromDataFrame(df)"
   ]
  },
  {
   "cell_type": "code",
   "execution_count": null,
   "id": "a58ce48b",
   "metadata": {},
   "outputs": [],
   "source": []
  },
  {
   "cell_type": "code",
   "execution_count": null,
   "id": "61422257",
   "metadata": {},
   "outputs": [],
   "source": []
  },
  {
   "cell_type": "markdown",
   "id": "778c3028",
   "metadata": {},
   "source": [
    "### Onehot Encoding:\n",
    "    Based on the total words present in our vocabulary we will be OneHotEncoding the document present in corpus.\n",
    "    \n",
    "    Token is the document we want to OneHot Encode and 'N' is the total number of words present in vocabulary."
   ]
  },
  {
   "cell_type": "code",
   "execution_count": 19,
   "id": "688bd272",
   "metadata": {},
   "outputs": [],
   "source": [
    "def OneHotVector(token,N):\n",
    "    onehot = np.zeros((N,1))\n",
    "    onehot[lookUpToken(token)] = 1\n",
    "    return onehot"
   ]
  },
  {
   "cell_type": "code",
   "execution_count": 20,
   "id": "633c2347",
   "metadata": {},
   "outputs": [],
   "source": [
    "# example\n",
    "N = len(vocab['t_2_i'])\n",
    "token = 'now'\n",
    "Onehot = OneHotVector(token,N)"
   ]
  },
  {
   "cell_type": "code",
   "execution_count": 21,
   "id": "3fba7ce1",
   "metadata": {},
   "outputs": [
    {
     "data": {
      "text/plain": [
       "38"
      ]
     },
     "execution_count": 21,
     "metadata": {},
     "output_type": "execute_result"
    }
   ],
   "source": [
    "lookUpToken('now')"
   ]
  },
  {
   "cell_type": "code",
   "execution_count": 22,
   "id": "abdf7ad0",
   "metadata": {},
   "outputs": [
    {
     "data": {
      "text/plain": [
       "array([0.])"
      ]
     },
     "execution_count": 22,
     "metadata": {},
     "output_type": "execute_result"
    }
   ],
   "source": [
    "Onehot[507]"
   ]
  },
  {
   "cell_type": "code",
   "execution_count": null,
   "id": "24382396",
   "metadata": {},
   "outputs": [],
   "source": []
  },
  {
   "cell_type": "code",
   "execution_count": null,
   "id": "9a5e395d",
   "metadata": {},
   "outputs": [],
   "source": []
  },
  {
   "cell_type": "markdown",
   "id": "01fe23f2",
   "metadata": {},
   "source": [
    "### Feature Computation:\n",
    "    \n",
    "    The feature computation is responsible for aggregating all the onehot encoded vectors of words present in the document into single column."
   ]
  },
  {
   "cell_type": "code",
   "execution_count": 23,
   "id": "dccb9148",
   "metadata": {},
   "outputs": [],
   "source": [
    "# time complexity is higher, but useful for giving the description of the function.\n",
    "def computeFeatures(doc,N):\n",
    "    isfirst = True\n",
    "    for token in doc:\n",
    "        onehot = OneHotVector(token,N)\n",
    "        if isfirst:\n",
    "            xF=onehot\n",
    "            isfirst = False\n",
    "        else:\n",
    "            xF = np.hstack((xF,onehot))\n",
    "    return np.mean(xF,axis=1).reshape(-1,1)"
   ]
  },
  {
   "cell_type": "code",
   "execution_count": 24,
   "id": "06161e1c",
   "metadata": {},
   "outputs": [],
   "source": [
    "# less time complexity.\n",
    "def computeFeature_fast(doc,N):\n",
    "    fv  = np.zeros(N)\n",
    "    numTokens=0\n",
    "    for token in doc:\n",
    "        fv[lookUpToken(token)] += 1\n",
    "        numTokens += 1\n",
    "    return fv/numTokens"
   ]
  },
  {
   "cell_type": "code",
   "execution_count": null,
   "id": "d8fc6a52",
   "metadata": {},
   "outputs": [],
   "source": []
  },
  {
   "cell_type": "code",
   "execution_count": null,
   "id": "57279915",
   "metadata": {},
   "outputs": [],
   "source": []
  },
  {
   "cell_type": "markdown",
   "id": "0b50a25e",
   "metadata": {},
   "source": [
    "### Feature Matrix:\n",
    "    \n",
    "    This function helps us create a Function Matrix of all documents present in our dataset.\n",
    "    \n",
    "    It will return a Feature Matrix of one hot encoded rows respectively to the document present in the dataset."
   ]
  },
  {
   "cell_type": "code",
   "execution_count": 25,
   "id": "c121b6ad",
   "metadata": {},
   "outputs": [],
   "source": [
    "def corpusToFeaturMatrix(Corpus,N):\n",
    "    isfirst = True\n",
    "    for doc in Corpus:\n",
    "        fv = computeFeatures(doc,N)\n",
    "        if isfirst:\n",
    "            fM = fv\n",
    "            isfirst=False\n",
    "        else:\n",
    "            fM=np.hstack((fM,fv))\n",
    "    return fM.T"
   ]
  },
  {
   "cell_type": "code",
   "execution_count": null,
   "id": "60f1fb20",
   "metadata": {},
   "outputs": [],
   "source": []
  },
  {
   "cell_type": "code",
   "execution_count": 26,
   "id": "37bf31cd",
   "metadata": {},
   "outputs": [],
   "source": [
    "def corpusTofeatureMatrix_fast(corpus,N):\n",
    "    fM = np.zeros((N,len(corpus)))\n",
    "    i=0\n",
    "    for doc in corpus:\n",
    "        fM[:,i] = computeFeature_fast(doc,N)\n",
    "        i+=1\n",
    "        \n",
    "    return fM.T"
   ]
  },
  {
   "cell_type": "code",
   "execution_count": 27,
   "id": "0fb4a992",
   "metadata": {},
   "outputs": [],
   "source": [
    "# example\n",
    "fv = computeFeatures(x[0],N)"
   ]
  },
  {
   "cell_type": "code",
   "execution_count": 28,
   "id": "bddaf67a",
   "metadata": {},
   "outputs": [
    {
     "data": {
      "text/plain": [
       "(9758, 1)"
      ]
     },
     "execution_count": 28,
     "metadata": {},
     "output_type": "execute_result"
    }
   ],
   "source": [
    "fv.shape"
   ]
  },
  {
   "cell_type": "code",
   "execution_count": 29,
   "id": "3d48c40d",
   "metadata": {},
   "outputs": [
    {
     "data": {
      "text/plain": [
       "array([[0.22424242],\n",
       "       [0.        ],\n",
       "       [0.        ],\n",
       "       ...,\n",
       "       [0.        ],\n",
       "       [0.        ],\n",
       "       [0.        ]])"
      ]
     },
     "execution_count": 29,
     "metadata": {},
     "output_type": "execute_result"
    }
   ],
   "source": [
    "fv"
   ]
  },
  {
   "cell_type": "code",
   "execution_count": null,
   "id": "abc0035a",
   "metadata": {},
   "outputs": [],
   "source": []
  },
  {
   "cell_type": "code",
   "execution_count": null,
   "id": "dde33015",
   "metadata": {},
   "outputs": [],
   "source": []
  },
  {
   "cell_type": "markdown",
   "id": "eb90a1d2",
   "metadata": {},
   "source": [
    "# Data Splitting :"
   ]
  },
  {
   "cell_type": "code",
   "execution_count": 30,
   "id": "e78fdb9d",
   "metadata": {},
   "outputs": [
    {
     "name": "stdout",
     "output_type": "stream",
     "text": [
      "(50000,) (50000,)\n"
     ]
    }
   ],
   "source": [
    "x = np.array(df.review)\n",
    "y = np.asarray(df.rating)\n",
    "print(x.shape, y.shape)"
   ]
  },
  {
   "cell_type": "code",
   "execution_count": 31,
   "id": "dc97d6d5",
   "metadata": {},
   "outputs": [],
   "source": [
    "from sklearn.model_selection import train_test_split"
   ]
  },
  {
   "cell_type": "code",
   "execution_count": 32,
   "id": "35c08901",
   "metadata": {},
   "outputs": [],
   "source": [
    "x_train,x_test,y_train,y_test = train_test_split(x,y,test_size=0.3)"
   ]
  },
  {
   "cell_type": "code",
   "execution_count": null,
   "id": "ab05f1cc",
   "metadata": {},
   "outputs": [],
   "source": []
  },
  {
   "cell_type": "code",
   "execution_count": null,
   "id": "4ddcf325",
   "metadata": {},
   "outputs": [],
   "source": []
  },
  {
   "cell_type": "markdown",
   "id": "d7e05ae1",
   "metadata": {},
   "source": [
    "# Initialising Vocabulary:\n",
    "    Note: Here we will assume the words present in our train dataset is our whole universe of words present."
   ]
  },
  {
   "cell_type": "code",
   "execution_count": 33,
   "id": "053523cb",
   "metadata": {},
   "outputs": [],
   "source": [
    "vocabularyFromCorpus(x_train)"
   ]
  },
  {
   "cell_type": "code",
   "execution_count": null,
   "id": "4272abd5",
   "metadata": {},
   "outputs": [],
   "source": []
  },
  {
   "cell_type": "markdown",
   "id": "1e642aa9",
   "metadata": {},
   "source": [
    "## Creating Corpus Matrices:"
   ]
  },
  {
   "cell_type": "code",
   "execution_count": 34,
   "id": "0f9b99a1",
   "metadata": {},
   "outputs": [],
   "source": [
    "N = len(vocab['t_2_i'])\n",
    "xtrain_fM = corpusTofeatureMatrix_fast(x_train,N)\n",
    "xtest_fM = corpusTofeatureMatrix_fast(x_test,N)"
   ]
  },
  {
   "cell_type": "code",
   "execution_count": null,
   "id": "a7dd69fd",
   "metadata": {},
   "outputs": [],
   "source": []
  },
  {
   "cell_type": "code",
   "execution_count": 35,
   "id": "11bae8a8",
   "metadata": {},
   "outputs": [],
   "source": [
    "# creating dataframe from the feature matrix\n",
    "dftrain = pd.DataFrame(xtrain_fM)\n",
    "dftest = pd.DataFrame(xtest_fM)"
   ]
  },
  {
   "cell_type": "code",
   "execution_count": null,
   "id": "b766bb72",
   "metadata": {},
   "outputs": [],
   "source": []
  },
  {
   "cell_type": "markdown",
   "id": "996db34f",
   "metadata": {},
   "source": [
    "# Model Training:\n",
    "     here we will employing the ML Model Logistic Regression, not particularly the ML Model with the best accuracy score,\n",
    "     \n",
    "     but usefull for understanding the process of classification."
   ]
  },
  {
   "cell_type": "code",
   "execution_count": 36,
   "id": "18ac1ad9",
   "metadata": {},
   "outputs": [],
   "source": [
    "m = lr().fit(xtrain_fM,y_train)"
   ]
  },
  {
   "cell_type": "code",
   "execution_count": 37,
   "id": "de60dd5e",
   "metadata": {},
   "outputs": [
    {
     "data": {
      "text/plain": [
       "1    26831\n",
       "2    23169\n",
       "Name: rating, dtype: int64"
      ]
     },
     "execution_count": 37,
     "metadata": {},
     "output_type": "execute_result"
    }
   ],
   "source": [
    "df.rating.value_counts()"
   ]
  },
  {
   "cell_type": "code",
   "execution_count": 38,
   "id": "d27b87bc",
   "metadata": {},
   "outputs": [
    {
     "data": {
      "text/plain": [
       "0.6465044942719423"
      ]
     },
     "execution_count": 38,
     "metadata": {},
     "output_type": "execute_result"
    }
   ],
   "source": [
    "y_pred_train = m.predict(xtrain_fM)\n",
    "roc_auc_score(y_train,y_pred_train)"
   ]
  },
  {
   "cell_type": "code",
   "execution_count": 39,
   "id": "39c985d0",
   "metadata": {},
   "outputs": [
    {
     "data": {
      "text/plain": [
       "<Axes: >"
      ]
     },
     "execution_count": 39,
     "metadata": {},
     "output_type": "execute_result"
    },
    {
     "data": {
      "image/png": "[encoded data removed]",
      "text/plain": [
       "<Figure size 640x480 with 2 Axes>"
      ]
     },
     "metadata": {},
     "output_type": "display_data"
    }
   ],
   "source": [
    "mat_train = confusion_matrix(y_train,y_pred_train)\n",
    "sns.heatmap(mat_train.T,cmap='coolwarm',annot=True)"
   ]
  },
  {
   "cell_type": "code",
   "execution_count": 40,
   "id": "c1cb8683",
   "metadata": {},
   "outputs": [
    {
     "data": {
      "text/plain": [
       "array([1, 1, 1, ..., 1, 1, 1], dtype=int64)"
      ]
     },
     "execution_count": 40,
     "metadata": {},
     "output_type": "execute_result"
    }
   ],
   "source": [
    "y_pred_train"
   ]
  },
  {
   "cell_type": "code",
   "execution_count": null,
   "id": "f4c150a5",
   "metadata": {},
   "outputs": [],
   "source": []
  },
  {
   "cell_type": "code",
   "execution_count": 41,
   "id": "b90875fa",
   "metadata": {},
   "outputs": [
    {
     "data": {
      "text/plain": [
       "0.6496306510914764"
      ]
     },
     "execution_count": 41,
     "metadata": {},
     "output_type": "execute_result"
    }
   ],
   "source": [
    "y_pred_test = m.predict(xtest_fM)\n",
    "roc_auc_score(y_test,y_pred_test)"
   ]
  },
  {
   "cell_type": "code",
   "execution_count": 42,
   "id": "fec28beb",
   "metadata": {},
   "outputs": [
    {
     "data": {
      "text/plain": [
       "<Axes: >"
      ]
     },
     "execution_count": 42,
     "metadata": {},
     "output_type": "execute_result"
    },
    {
     "data": {
      "image/png": "[encoded data removed]",
      "text/plain": [
       "<Figure size 640x480 with 2 Axes>"
      ]
     },
     "metadata": {},
     "output_type": "display_data"
    }
   ],
   "source": [
    "mat_test = confusion_matrix(y_test,y_pred_test)\n",
    "sns.heatmap(mat_test,cmap='coolwarm',annot=True)"
   ]
  }
 ],
 "metadata": {
  "kernelspec": {
   "display_name": "Python 3 (ipykernel)",
   "language": "python",
   "name": "python3"
  },
  "language_info": {
   "codemirror_mode": {
    "name": "ipython",
    "version": 3
   },
   "file_extension": ".py",
   "mimetype": "text/x-python",
   "name": "python",
   "nbconvert_exporter": "python",
   "pygments_lexer": "ipython3",
   "version": "3.11.5"
  }
 },
 "nbformat": 4,
 "nbformat_minor": 5
}
