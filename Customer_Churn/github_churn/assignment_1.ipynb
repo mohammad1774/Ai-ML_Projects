{
 "cells": [
  {
   "cell_type": "code",
   "execution_count": 243,
   "id": "2a3fe7cc",
   "metadata": {},
   "outputs": [],
   "source": [
    "import pandas as pd\n",
    "import numpy as np\n",
    "import matplotlib.pyplot as plt\n",
    "import seaborn as sns\n",
    "from sklearn.preprocessing import OneHotEncoder, MinMaxScaler\n",
    "from sklearn.model_selection import train_test_split, GridSearchCV\n",
    "import warnings\n",
    "import seaborn as sns\n",
    "warnings.filterwarnings('ignore')\n",
    "np.random.seed(42)"
   ]
  },
  {
   "cell_type": "code",
   "execution_count": 244,
   "id": "491b58b1",
   "metadata": {},
   "outputs": [],
   "source": [
    "from sklearn.neighbors import KNeighborsClassifier\n",
    "from sklearn.linear_model import LogisticRegression\n",
    "from sklearn.tree import DecisionTreeClassifier\n",
    "from sklearn.ensemble import RandomForestClassifier\n",
    "from sklearn.ensemble import AdaBoostClassifier\n",
    "import xgboost as xgb\n",
    "from prettytable import PrettyTable\n",
    "from sklearn.metrics import roc_auc_score,f1_score,recall_score, accuracy_score,precision_score,confusion_matrix"
   ]
  },
  {
   "cell_type": "code",
   "execution_count": 245,
   "id": "b6055211",
   "metadata": {},
   "outputs": [],
   "source": [
    "df = pd.read_csv('Churn_Modelling.csv')"
   ]
  },
  {
   "cell_type": "code",
   "execution_count": 246,
   "id": "1cb1409d",
   "metadata": {},
   "outputs": [
    {
     "data": {
      "text/html": [
       "<div>\n",
       "<style scoped>\n",
       "    .dataframe tbody tr th:only-of-type {\n",
       "        vertical-align: middle;\n",
       "    }\n",
       "\n",
       "    .dataframe tbody tr th {\n",
       "        vertical-align: top;\n",
       "    }\n",
       "\n",
       "    .dataframe thead th {\n",
       "        text-align: right;\n",
       "    }\n",
       "</style>\n",
       "<table border=\"1\" class=\"dataframe\">\n",
       "  <thead>\n",
       "    <tr style=\"text-align: right;\">\n",
       "      <th></th>\n",
       "      <th>RowNumber</th>\n",
       "      <th>CustomerId</th>\n",
       "      <th>Surname</th>\n",
       "      <th>CreditScore</th>\n",
       "      <th>Geography</th>\n",
       "      <th>Gender</th>\n",
       "      <th>Age</th>\n",
       "      <th>Tenure</th>\n",
       "      <th>Balance</th>\n",
       "      <th>NumOfProducts</th>\n",
       "      <th>HasCrCard</th>\n",
       "      <th>IsActiveMember</th>\n",
       "      <th>EstimatedSalary</th>\n",
       "      <th>Exited</th>\n",
       "    </tr>\n",
       "  </thead>\n",
       "  <tbody>\n",
       "    <tr>\n",
       "      <th>0</th>\n",
       "      <td>1</td>\n",
       "      <td>15634602</td>\n",
       "      <td>Hargrave</td>\n",
       "      <td>619</td>\n",
       "      <td>France</td>\n",
       "      <td>Female</td>\n",
       "      <td>42</td>\n",
       "      <td>2</td>\n",
       "      <td>0.00</td>\n",
       "      <td>1</td>\n",
       "      <td>1</td>\n",
       "      <td>1</td>\n",
       "      <td>101348.88</td>\n",
       "      <td>1</td>\n",
       "    </tr>\n",
       "    <tr>\n",
       "      <th>1</th>\n",
       "      <td>2</td>\n",
       "      <td>15647311</td>\n",
       "      <td>Hill</td>\n",
       "      <td>608</td>\n",
       "      <td>Spain</td>\n",
       "      <td>Female</td>\n",
       "      <td>41</td>\n",
       "      <td>1</td>\n",
       "      <td>83807.86</td>\n",
       "      <td>1</td>\n",
       "      <td>0</td>\n",
       "      <td>1</td>\n",
       "      <td>112542.58</td>\n",
       "      <td>0</td>\n",
       "    </tr>\n",
       "    <tr>\n",
       "      <th>2</th>\n",
       "      <td>3</td>\n",
       "      <td>15619304</td>\n",
       "      <td>Onio</td>\n",
       "      <td>502</td>\n",
       "      <td>France</td>\n",
       "      <td>Female</td>\n",
       "      <td>42</td>\n",
       "      <td>8</td>\n",
       "      <td>159660.80</td>\n",
       "      <td>3</td>\n",
       "      <td>1</td>\n",
       "      <td>0</td>\n",
       "      <td>113931.57</td>\n",
       "      <td>1</td>\n",
       "    </tr>\n",
       "    <tr>\n",
       "      <th>3</th>\n",
       "      <td>4</td>\n",
       "      <td>15701354</td>\n",
       "      <td>Boni</td>\n",
       "      <td>699</td>\n",
       "      <td>France</td>\n",
       "      <td>Female</td>\n",
       "      <td>39</td>\n",
       "      <td>1</td>\n",
       "      <td>0.00</td>\n",
       "      <td>2</td>\n",
       "      <td>0</td>\n",
       "      <td>0</td>\n",
       "      <td>93826.63</td>\n",
       "      <td>0</td>\n",
       "    </tr>\n",
       "    <tr>\n",
       "      <th>4</th>\n",
       "      <td>5</td>\n",
       "      <td>15737888</td>\n",
       "      <td>Mitchell</td>\n",
       "      <td>850</td>\n",
       "      <td>Spain</td>\n",
       "      <td>Female</td>\n",
       "      <td>43</td>\n",
       "      <td>2</td>\n",
       "      <td>125510.82</td>\n",
       "      <td>1</td>\n",
       "      <td>1</td>\n",
       "      <td>1</td>\n",
       "      <td>79084.10</td>\n",
       "      <td>0</td>\n",
       "    </tr>\n",
       "    <tr>\n",
       "      <th>...</th>\n",
       "      <td>...</td>\n",
       "      <td>...</td>\n",
       "      <td>...</td>\n",
       "      <td>...</td>\n",
       "      <td>...</td>\n",
       "      <td>...</td>\n",
       "      <td>...</td>\n",
       "      <td>...</td>\n",
       "      <td>...</td>\n",
       "      <td>...</td>\n",
       "      <td>...</td>\n",
       "      <td>...</td>\n",
       "      <td>...</td>\n",
       "      <td>...</td>\n",
       "    </tr>\n",
       "    <tr>\n",
       "      <th>9995</th>\n",
       "      <td>9996</td>\n",
       "      <td>15606229</td>\n",
       "      <td>Obijiaku</td>\n",
       "      <td>771</td>\n",
       "      <td>France</td>\n",
       "      <td>Male</td>\n",
       "      <td>39</td>\n",
       "      <td>5</td>\n",
       "      <td>0.00</td>\n",
       "      <td>2</td>\n",
       "      <td>1</td>\n",
       "      <td>0</td>\n",
       "      <td>96270.64</td>\n",
       "      <td>0</td>\n",
       "    </tr>\n",
       "    <tr>\n",
       "      <th>9996</th>\n",
       "      <td>9997</td>\n",
       "      <td>15569892</td>\n",
       "      <td>Johnstone</td>\n",
       "      <td>516</td>\n",
       "      <td>France</td>\n",
       "      <td>Male</td>\n",
       "      <td>35</td>\n",
       "      <td>10</td>\n",
       "      <td>57369.61</td>\n",
       "      <td>1</td>\n",
       "      <td>1</td>\n",
       "      <td>1</td>\n",
       "      <td>101699.77</td>\n",
       "      <td>0</td>\n",
       "    </tr>\n",
       "    <tr>\n",
       "      <th>9997</th>\n",
       "      <td>9998</td>\n",
       "      <td>15584532</td>\n",
       "      <td>Liu</td>\n",
       "      <td>709</td>\n",
       "      <td>France</td>\n",
       "      <td>Female</td>\n",
       "      <td>36</td>\n",
       "      <td>7</td>\n",
       "      <td>0.00</td>\n",
       "      <td>1</td>\n",
       "      <td>0</td>\n",
       "      <td>1</td>\n",
       "      <td>42085.58</td>\n",
       "      <td>1</td>\n",
       "    </tr>\n",
       "    <tr>\n",
       "      <th>9998</th>\n",
       "      <td>9999</td>\n",
       "      <td>15682355</td>\n",
       "      <td>Sabbatini</td>\n",
       "      <td>772</td>\n",
       "      <td>Germany</td>\n",
       "      <td>Male</td>\n",
       "      <td>42</td>\n",
       "      <td>3</td>\n",
       "      <td>75075.31</td>\n",
       "      <td>2</td>\n",
       "      <td>1</td>\n",
       "      <td>0</td>\n",
       "      <td>92888.52</td>\n",
       "      <td>1</td>\n",
       "    </tr>\n",
       "    <tr>\n",
       "      <th>9999</th>\n",
       "      <td>10000</td>\n",
       "      <td>15628319</td>\n",
       "      <td>Walker</td>\n",
       "      <td>792</td>\n",
       "      <td>France</td>\n",
       "      <td>Female</td>\n",
       "      <td>28</td>\n",
       "      <td>4</td>\n",
       "      <td>130142.79</td>\n",
       "      <td>1</td>\n",
       "      <td>1</td>\n",
       "      <td>0</td>\n",
       "      <td>38190.78</td>\n",
       "      <td>0</td>\n",
       "    </tr>\n",
       "  </tbody>\n",
       "</table>\n",
       "<p>10000 rows × 14 columns</p>\n",
       "</div>"
      ],
      "text/plain": [
       "      RowNumber  CustomerId    Surname  CreditScore Geography  Gender  Age  \\\n",
       "0             1    15634602   Hargrave          619    France  Female   42   \n",
       "1             2    15647311       Hill          608     Spain  Female   41   \n",
       "2             3    15619304       Onio          502    France  Female   42   \n",
       "3             4    15701354       Boni          699    France  Female   39   \n",
       "4             5    15737888   Mitchell          850     Spain  Female   43   \n",
       "...         ...         ...        ...          ...       ...     ...  ...   \n",
       "9995       9996    15606229   Obijiaku          771    France    Male   39   \n",
       "9996       9997    15569892  Johnstone          516    France    Male   35   \n",
       "9997       9998    15584532        Liu          709    France  Female   36   \n",
       "9998       9999    15682355  Sabbatini          772   Germany    Male   42   \n",
       "9999      10000    15628319     Walker          792    France  Female   28   \n",
       "\n",
       "      Tenure    Balance  NumOfProducts  HasCrCard  IsActiveMember  \\\n",
       "0          2       0.00              1          1               1   \n",
       "1          1   83807.86              1          0               1   \n",
       "2          8  159660.80              3          1               0   \n",
       "3          1       0.00              2          0               0   \n",
       "4          2  125510.82              1          1               1   \n",
       "...      ...        ...            ...        ...             ...   \n",
       "9995       5       0.00              2          1               0   \n",
       "9996      10   57369.61              1          1               1   \n",
       "9997       7       0.00              1          0               1   \n",
       "9998       3   75075.31              2          1               0   \n",
       "9999       4  130142.79              1          1               0   \n",
       "\n",
       "      EstimatedSalary  Exited  \n",
       "0           101348.88       1  \n",
       "1           112542.58       0  \n",
       "2           113931.57       1  \n",
       "3            93826.63       0  \n",
       "4            79084.10       0  \n",
       "...               ...     ...  \n",
       "9995         96270.64       0  \n",
       "9996        101699.77       0  \n",
       "9997         42085.58       1  \n",
       "9998         92888.52       1  \n",
       "9999         38190.78       0  \n",
       "\n",
       "[10000 rows x 14 columns]"
      ]
     },
     "execution_count": 246,
     "metadata": {},
     "output_type": "execute_result"
    }
   ],
   "source": [
    "df"
   ]
  },
  {
   "cell_type": "code",
   "execution_count": 247,
   "id": "a34b2376",
   "metadata": {},
   "outputs": [
    {
     "data": {
      "text/plain": [
       "(10000, 14)"
      ]
     },
     "execution_count": 247,
     "metadata": {},
     "output_type": "execute_result"
    }
   ],
   "source": [
    "df.shape"
   ]
  },
  {
   "cell_type": "code",
   "execution_count": 248,
   "id": "4fb8b6f2",
   "metadata": {},
   "outputs": [
    {
     "data": {
      "text/plain": [
       "RowNumber          0\n",
       "CustomerId         0\n",
       "Surname            0\n",
       "CreditScore        0\n",
       "Geography          0\n",
       "Gender             0\n",
       "Age                0\n",
       "Tenure             0\n",
       "Balance            0\n",
       "NumOfProducts      0\n",
       "HasCrCard          0\n",
       "IsActiveMember     0\n",
       "EstimatedSalary    0\n",
       "Exited             0\n",
       "dtype: int64"
      ]
     },
     "execution_count": 248,
     "metadata": {},
     "output_type": "execute_result"
    }
   ],
   "source": [
    "df.isna().sum()"
   ]
  },
  {
   "cell_type": "code",
   "execution_count": 249,
   "id": "58e6e301",
   "metadata": {},
   "outputs": [],
   "source": [
    "df.drop_duplicates(inplace=True)"
   ]
  },
  {
   "cell_type": "markdown",
   "id": "f4a199d0",
   "metadata": {},
   "source": [
    "# Observations / Comment on Data:\n",
    "\n",
    "        There data consists of 14 columns , with 13 features and 1 target variable 'Exited'.\n",
    "        There are no null values present in data.\n",
    "        Duplicated rows or data is removed , if any was present."
   ]
  },
  {
   "cell_type": "code",
   "execution_count": null,
   "id": "ff87751a",
   "metadata": {},
   "outputs": [],
   "source": []
  },
  {
   "cell_type": "code",
   "execution_count": 250,
   "id": "3e4132ce",
   "metadata": {},
   "outputs": [
    {
     "name": "stdout",
     "output_type": "stream",
     "text": [
      "<class 'pandas.core.frame.DataFrame'>\n",
      "RangeIndex: 10000 entries, 0 to 9999\n",
      "Data columns (total 14 columns):\n",
      " #   Column           Non-Null Count  Dtype  \n",
      "---  ------           --------------  -----  \n",
      " 0   RowNumber        10000 non-null  int64  \n",
      " 1   CustomerId       10000 non-null  int64  \n",
      " 2   Surname          10000 non-null  object \n",
      " 3   CreditScore      10000 non-null  int64  \n",
      " 4   Geography        10000 non-null  object \n",
      " 5   Gender           10000 non-null  object \n",
      " 6   Age              10000 non-null  int64  \n",
      " 7   Tenure           10000 non-null  int64  \n",
      " 8   Balance          10000 non-null  float64\n",
      " 9   NumOfProducts    10000 non-null  int64  \n",
      " 10  HasCrCard        10000 non-null  int64  \n",
      " 11  IsActiveMember   10000 non-null  int64  \n",
      " 12  EstimatedSalary  10000 non-null  float64\n",
      " 13  Exited           10000 non-null  int64  \n",
      "dtypes: float64(2), int64(9), object(3)\n",
      "memory usage: 1.1+ MB\n"
     ]
    }
   ],
   "source": [
    "df.info()"
   ]
  },
  {
   "cell_type": "code",
   "execution_count": 251,
   "id": "65edf770",
   "metadata": {},
   "outputs": [
    {
     "data": {
      "text/html": [
       "<div>\n",
       "<style scoped>\n",
       "    .dataframe tbody tr th:only-of-type {\n",
       "        vertical-align: middle;\n",
       "    }\n",
       "\n",
       "    .dataframe tbody tr th {\n",
       "        vertical-align: top;\n",
       "    }\n",
       "\n",
       "    .dataframe thead th {\n",
       "        text-align: right;\n",
       "    }\n",
       "</style>\n",
       "<table border=\"1\" class=\"dataframe\">\n",
       "  <thead>\n",
       "    <tr style=\"text-align: right;\">\n",
       "      <th></th>\n",
       "      <th>RowNumber</th>\n",
       "      <th>CustomerId</th>\n",
       "      <th>Surname</th>\n",
       "      <th>CreditScore</th>\n",
       "      <th>Geography</th>\n",
       "      <th>Gender</th>\n",
       "      <th>Age</th>\n",
       "      <th>Tenure</th>\n",
       "      <th>Balance</th>\n",
       "      <th>NumOfProducts</th>\n",
       "      <th>HasCrCard</th>\n",
       "      <th>IsActiveMember</th>\n",
       "      <th>EstimatedSalary</th>\n",
       "      <th>Exited</th>\n",
       "    </tr>\n",
       "  </thead>\n",
       "  <tbody>\n",
       "    <tr>\n",
       "      <th>0</th>\n",
       "      <td>1</td>\n",
       "      <td>15634602</td>\n",
       "      <td>Hargrave</td>\n",
       "      <td>619</td>\n",
       "      <td>France</td>\n",
       "      <td>Female</td>\n",
       "      <td>42</td>\n",
       "      <td>2</td>\n",
       "      <td>0.00</td>\n",
       "      <td>1</td>\n",
       "      <td>1</td>\n",
       "      <td>1</td>\n",
       "      <td>101348.88</td>\n",
       "      <td>1</td>\n",
       "    </tr>\n",
       "    <tr>\n",
       "      <th>1</th>\n",
       "      <td>2</td>\n",
       "      <td>15647311</td>\n",
       "      <td>Hill</td>\n",
       "      <td>608</td>\n",
       "      <td>Spain</td>\n",
       "      <td>Female</td>\n",
       "      <td>41</td>\n",
       "      <td>1</td>\n",
       "      <td>83807.86</td>\n",
       "      <td>1</td>\n",
       "      <td>0</td>\n",
       "      <td>1</td>\n",
       "      <td>112542.58</td>\n",
       "      <td>0</td>\n",
       "    </tr>\n",
       "    <tr>\n",
       "      <th>2</th>\n",
       "      <td>3</td>\n",
       "      <td>15619304</td>\n",
       "      <td>Onio</td>\n",
       "      <td>502</td>\n",
       "      <td>France</td>\n",
       "      <td>Female</td>\n",
       "      <td>42</td>\n",
       "      <td>8</td>\n",
       "      <td>159660.80</td>\n",
       "      <td>3</td>\n",
       "      <td>1</td>\n",
       "      <td>0</td>\n",
       "      <td>113931.57</td>\n",
       "      <td>1</td>\n",
       "    </tr>\n",
       "    <tr>\n",
       "      <th>3</th>\n",
       "      <td>4</td>\n",
       "      <td>15701354</td>\n",
       "      <td>Boni</td>\n",
       "      <td>699</td>\n",
       "      <td>France</td>\n",
       "      <td>Female</td>\n",
       "      <td>39</td>\n",
       "      <td>1</td>\n",
       "      <td>0.00</td>\n",
       "      <td>2</td>\n",
       "      <td>0</td>\n",
       "      <td>0</td>\n",
       "      <td>93826.63</td>\n",
       "      <td>0</td>\n",
       "    </tr>\n",
       "    <tr>\n",
       "      <th>4</th>\n",
       "      <td>5</td>\n",
       "      <td>15737888</td>\n",
       "      <td>Mitchell</td>\n",
       "      <td>850</td>\n",
       "      <td>Spain</td>\n",
       "      <td>Female</td>\n",
       "      <td>43</td>\n",
       "      <td>2</td>\n",
       "      <td>125510.82</td>\n",
       "      <td>1</td>\n",
       "      <td>1</td>\n",
       "      <td>1</td>\n",
       "      <td>79084.10</td>\n",
       "      <td>0</td>\n",
       "    </tr>\n",
       "  </tbody>\n",
       "</table>\n",
       "</div>"
      ],
      "text/plain": [
       "   RowNumber  CustomerId   Surname  CreditScore Geography  Gender  Age  \\\n",
       "0          1    15634602  Hargrave          619    France  Female   42   \n",
       "1          2    15647311      Hill          608     Spain  Female   41   \n",
       "2          3    15619304      Onio          502    France  Female   42   \n",
       "3          4    15701354      Boni          699    France  Female   39   \n",
       "4          5    15737888  Mitchell          850     Spain  Female   43   \n",
       "\n",
       "   Tenure    Balance  NumOfProducts  HasCrCard  IsActiveMember  \\\n",
       "0       2       0.00              1          1               1   \n",
       "1       1   83807.86              1          0               1   \n",
       "2       8  159660.80              3          1               0   \n",
       "3       1       0.00              2          0               0   \n",
       "4       2  125510.82              1          1               1   \n",
       "\n",
       "   EstimatedSalary  Exited  \n",
       "0        101348.88       1  \n",
       "1        112542.58       0  \n",
       "2        113931.57       1  \n",
       "3         93826.63       0  \n",
       "4         79084.10       0  "
      ]
     },
     "execution_count": 251,
     "metadata": {},
     "output_type": "execute_result"
    }
   ],
   "source": [
    "df.head()"
   ]
  },
  {
   "cell_type": "markdown",
   "id": "ec112c92",
   "metadata": {},
   "source": [
    "# Data Cleaning"
   ]
  },
  {
   "cell_type": "code",
   "execution_count": 252,
   "id": "b9403ed4",
   "metadata": {},
   "outputs": [
    {
     "data": {
      "text/html": [
       "<div>\n",
       "<style scoped>\n",
       "    .dataframe tbody tr th:only-of-type {\n",
       "        vertical-align: middle;\n",
       "    }\n",
       "\n",
       "    .dataframe tbody tr th {\n",
       "        vertical-align: top;\n",
       "    }\n",
       "\n",
       "    .dataframe thead th {\n",
       "        text-align: right;\n",
       "    }\n",
       "</style>\n",
       "<table border=\"1\" class=\"dataframe\">\n",
       "  <thead>\n",
       "    <tr style=\"text-align: right;\">\n",
       "      <th></th>\n",
       "      <th>CreditScore</th>\n",
       "      <th>Geography</th>\n",
       "      <th>Gender</th>\n",
       "      <th>Age</th>\n",
       "      <th>Tenure</th>\n",
       "      <th>Balance</th>\n",
       "      <th>NumOfProducts</th>\n",
       "      <th>HasCrCard</th>\n",
       "      <th>IsActiveMember</th>\n",
       "      <th>EstimatedSalary</th>\n",
       "      <th>Exited</th>\n",
       "    </tr>\n",
       "  </thead>\n",
       "  <tbody>\n",
       "    <tr>\n",
       "      <th>0</th>\n",
       "      <td>619</td>\n",
       "      <td>France</td>\n",
       "      <td>Female</td>\n",
       "      <td>42</td>\n",
       "      <td>2</td>\n",
       "      <td>0.00</td>\n",
       "      <td>1</td>\n",
       "      <td>1</td>\n",
       "      <td>1</td>\n",
       "      <td>101348.88</td>\n",
       "      <td>1</td>\n",
       "    </tr>\n",
       "    <tr>\n",
       "      <th>1</th>\n",
       "      <td>608</td>\n",
       "      <td>Spain</td>\n",
       "      <td>Female</td>\n",
       "      <td>41</td>\n",
       "      <td>1</td>\n",
       "      <td>83807.86</td>\n",
       "      <td>1</td>\n",
       "      <td>0</td>\n",
       "      <td>1</td>\n",
       "      <td>112542.58</td>\n",
       "      <td>0</td>\n",
       "    </tr>\n",
       "    <tr>\n",
       "      <th>2</th>\n",
       "      <td>502</td>\n",
       "      <td>France</td>\n",
       "      <td>Female</td>\n",
       "      <td>42</td>\n",
       "      <td>8</td>\n",
       "      <td>159660.80</td>\n",
       "      <td>3</td>\n",
       "      <td>1</td>\n",
       "      <td>0</td>\n",
       "      <td>113931.57</td>\n",
       "      <td>1</td>\n",
       "    </tr>\n",
       "    <tr>\n",
       "      <th>3</th>\n",
       "      <td>699</td>\n",
       "      <td>France</td>\n",
       "      <td>Female</td>\n",
       "      <td>39</td>\n",
       "      <td>1</td>\n",
       "      <td>0.00</td>\n",
       "      <td>2</td>\n",
       "      <td>0</td>\n",
       "      <td>0</td>\n",
       "      <td>93826.63</td>\n",
       "      <td>0</td>\n",
       "    </tr>\n",
       "    <tr>\n",
       "      <th>4</th>\n",
       "      <td>850</td>\n",
       "      <td>Spain</td>\n",
       "      <td>Female</td>\n",
       "      <td>43</td>\n",
       "      <td>2</td>\n",
       "      <td>125510.82</td>\n",
       "      <td>1</td>\n",
       "      <td>1</td>\n",
       "      <td>1</td>\n",
       "      <td>79084.10</td>\n",
       "      <td>0</td>\n",
       "    </tr>\n",
       "    <tr>\n",
       "      <th>...</th>\n",
       "      <td>...</td>\n",
       "      <td>...</td>\n",
       "      <td>...</td>\n",
       "      <td>...</td>\n",
       "      <td>...</td>\n",
       "      <td>...</td>\n",
       "      <td>...</td>\n",
       "      <td>...</td>\n",
       "      <td>...</td>\n",
       "      <td>...</td>\n",
       "      <td>...</td>\n",
       "    </tr>\n",
       "    <tr>\n",
       "      <th>9995</th>\n",
       "      <td>771</td>\n",
       "      <td>France</td>\n",
       "      <td>Male</td>\n",
       "      <td>39</td>\n",
       "      <td>5</td>\n",
       "      <td>0.00</td>\n",
       "      <td>2</td>\n",
       "      <td>1</td>\n",
       "      <td>0</td>\n",
       "      <td>96270.64</td>\n",
       "      <td>0</td>\n",
       "    </tr>\n",
       "    <tr>\n",
       "      <th>9996</th>\n",
       "      <td>516</td>\n",
       "      <td>France</td>\n",
       "      <td>Male</td>\n",
       "      <td>35</td>\n",
       "      <td>10</td>\n",
       "      <td>57369.61</td>\n",
       "      <td>1</td>\n",
       "      <td>1</td>\n",
       "      <td>1</td>\n",
       "      <td>101699.77</td>\n",
       "      <td>0</td>\n",
       "    </tr>\n",
       "    <tr>\n",
       "      <th>9997</th>\n",
       "      <td>709</td>\n",
       "      <td>France</td>\n",
       "      <td>Female</td>\n",
       "      <td>36</td>\n",
       "      <td>7</td>\n",
       "      <td>0.00</td>\n",
       "      <td>1</td>\n",
       "      <td>0</td>\n",
       "      <td>1</td>\n",
       "      <td>42085.58</td>\n",
       "      <td>1</td>\n",
       "    </tr>\n",
       "    <tr>\n",
       "      <th>9998</th>\n",
       "      <td>772</td>\n",
       "      <td>Germany</td>\n",
       "      <td>Male</td>\n",
       "      <td>42</td>\n",
       "      <td>3</td>\n",
       "      <td>75075.31</td>\n",
       "      <td>2</td>\n",
       "      <td>1</td>\n",
       "      <td>0</td>\n",
       "      <td>92888.52</td>\n",
       "      <td>1</td>\n",
       "    </tr>\n",
       "    <tr>\n",
       "      <th>9999</th>\n",
       "      <td>792</td>\n",
       "      <td>France</td>\n",
       "      <td>Female</td>\n",
       "      <td>28</td>\n",
       "      <td>4</td>\n",
       "      <td>130142.79</td>\n",
       "      <td>1</td>\n",
       "      <td>1</td>\n",
       "      <td>0</td>\n",
       "      <td>38190.78</td>\n",
       "      <td>0</td>\n",
       "    </tr>\n",
       "  </tbody>\n",
       "</table>\n",
       "<p>10000 rows × 11 columns</p>\n",
       "</div>"
      ],
      "text/plain": [
       "      CreditScore Geography  Gender  Age  Tenure    Balance  NumOfProducts  \\\n",
       "0             619    France  Female   42       2       0.00              1   \n",
       "1             608     Spain  Female   41       1   83807.86              1   \n",
       "2             502    France  Female   42       8  159660.80              3   \n",
       "3             699    France  Female   39       1       0.00              2   \n",
       "4             850     Spain  Female   43       2  125510.82              1   \n",
       "...           ...       ...     ...  ...     ...        ...            ...   \n",
       "9995          771    France    Male   39       5       0.00              2   \n",
       "9996          516    France    Male   35      10   57369.61              1   \n",
       "9997          709    France  Female   36       7       0.00              1   \n",
       "9998          772   Germany    Male   42       3   75075.31              2   \n",
       "9999          792    France  Female   28       4  130142.79              1   \n",
       "\n",
       "      HasCrCard  IsActiveMember  EstimatedSalary  Exited  \n",
       "0             1               1        101348.88       1  \n",
       "1             0               1        112542.58       0  \n",
       "2             1               0        113931.57       1  \n",
       "3             0               0         93826.63       0  \n",
       "4             1               1         79084.10       0  \n",
       "...         ...             ...              ...     ...  \n",
       "9995          1               0         96270.64       0  \n",
       "9996          1               1        101699.77       0  \n",
       "9997          0               1         42085.58       1  \n",
       "9998          1               0         92888.52       1  \n",
       "9999          1               0         38190.78       0  \n",
       "\n",
       "[10000 rows x 11 columns]"
      ]
     },
     "execution_count": 252,
     "metadata": {},
     "output_type": "execute_result"
    }
   ],
   "source": [
    "df.drop(['RowNumber','CustomerId','Surname'], inplace=True,axis=1)\n",
    "df"
   ]
  },
  {
   "cell_type": "markdown",
   "id": "3c155ffc",
   "metadata": {},
   "source": [
    "## Comment: \n",
    "     \n",
    "     The columns RowNumber ,CustomerId and Surname doesn't show importance in the Data Analysis or Predictions."
   ]
  },
  {
   "cell_type": "code",
   "execution_count": null,
   "id": "ea329d0d",
   "metadata": {},
   "outputs": [],
   "source": []
  },
  {
   "cell_type": "markdown",
   "id": "03b426a9",
   "metadata": {},
   "source": [
    "## Feature Selection:\n",
    "\n",
    "        The features can be divided into two categories, namely categorical and numerical"
   ]
  },
  {
   "cell_type": "code",
   "execution_count": 253,
   "id": "c8df3e81",
   "metadata": {},
   "outputs": [
    {
     "data": {
      "text/html": [
       "<div>\n",
       "<style scoped>\n",
       "    .dataframe tbody tr th:only-of-type {\n",
       "        vertical-align: middle;\n",
       "    }\n",
       "\n",
       "    .dataframe tbody tr th {\n",
       "        vertical-align: top;\n",
       "    }\n",
       "\n",
       "    .dataframe thead th {\n",
       "        text-align: right;\n",
       "    }\n",
       "</style>\n",
       "<table border=\"1\" class=\"dataframe\">\n",
       "  <thead>\n",
       "    <tr style=\"text-align: right;\">\n",
       "      <th></th>\n",
       "      <th>CreditScore</th>\n",
       "      <th>Geography</th>\n",
       "      <th>Gender</th>\n",
       "      <th>Age</th>\n",
       "      <th>Tenure</th>\n",
       "      <th>Balance</th>\n",
       "      <th>NumOfProducts</th>\n",
       "      <th>HasCrCard</th>\n",
       "      <th>IsActiveMember</th>\n",
       "      <th>EstimatedSalary</th>\n",
       "      <th>Exited</th>\n",
       "    </tr>\n",
       "  </thead>\n",
       "  <tbody>\n",
       "    <tr>\n",
       "      <th>0</th>\n",
       "      <td>619</td>\n",
       "      <td>France</td>\n",
       "      <td>Female</td>\n",
       "      <td>42</td>\n",
       "      <td>2</td>\n",
       "      <td>0.00</td>\n",
       "      <td>1</td>\n",
       "      <td>1</td>\n",
       "      <td>1</td>\n",
       "      <td>101348.88</td>\n",
       "      <td>1</td>\n",
       "    </tr>\n",
       "    <tr>\n",
       "      <th>1</th>\n",
       "      <td>608</td>\n",
       "      <td>Spain</td>\n",
       "      <td>Female</td>\n",
       "      <td>41</td>\n",
       "      <td>1</td>\n",
       "      <td>83807.86</td>\n",
       "      <td>1</td>\n",
       "      <td>0</td>\n",
       "      <td>1</td>\n",
       "      <td>112542.58</td>\n",
       "      <td>0</td>\n",
       "    </tr>\n",
       "    <tr>\n",
       "      <th>2</th>\n",
       "      <td>502</td>\n",
       "      <td>France</td>\n",
       "      <td>Female</td>\n",
       "      <td>42</td>\n",
       "      <td>8</td>\n",
       "      <td>159660.80</td>\n",
       "      <td>3</td>\n",
       "      <td>1</td>\n",
       "      <td>0</td>\n",
       "      <td>113931.57</td>\n",
       "      <td>1</td>\n",
       "    </tr>\n",
       "    <tr>\n",
       "      <th>3</th>\n",
       "      <td>699</td>\n",
       "      <td>France</td>\n",
       "      <td>Female</td>\n",
       "      <td>39</td>\n",
       "      <td>1</td>\n",
       "      <td>0.00</td>\n",
       "      <td>2</td>\n",
       "      <td>0</td>\n",
       "      <td>0</td>\n",
       "      <td>93826.63</td>\n",
       "      <td>0</td>\n",
       "    </tr>\n",
       "    <tr>\n",
       "      <th>4</th>\n",
       "      <td>850</td>\n",
       "      <td>Spain</td>\n",
       "      <td>Female</td>\n",
       "      <td>43</td>\n",
       "      <td>2</td>\n",
       "      <td>125510.82</td>\n",
       "      <td>1</td>\n",
       "      <td>1</td>\n",
       "      <td>1</td>\n",
       "      <td>79084.10</td>\n",
       "      <td>0</td>\n",
       "    </tr>\n",
       "  </tbody>\n",
       "</table>\n",
       "</div>"
      ],
      "text/plain": [
       "   CreditScore Geography  Gender  Age  Tenure    Balance  NumOfProducts  \\\n",
       "0          619    France  Female   42       2       0.00              1   \n",
       "1          608     Spain  Female   41       1   83807.86              1   \n",
       "2          502    France  Female   42       8  159660.80              3   \n",
       "3          699    France  Female   39       1       0.00              2   \n",
       "4          850     Spain  Female   43       2  125510.82              1   \n",
       "\n",
       "   HasCrCard  IsActiveMember  EstimatedSalary  Exited  \n",
       "0          1               1        101348.88       1  \n",
       "1          0               1        112542.58       0  \n",
       "2          1               0        113931.57       1  \n",
       "3          0               0         93826.63       0  \n",
       "4          1               1         79084.10       0  "
      ]
     },
     "execution_count": 253,
     "metadata": {},
     "output_type": "execute_result"
    }
   ],
   "source": [
    "df.head()"
   ]
  },
  {
   "cell_type": "code",
   "execution_count": 254,
   "id": "a68b63ca",
   "metadata": {},
   "outputs": [],
   "source": [
    "col_numerical = ['CreditScore','Age','Balance','EstimatedSalary','Exited']\n",
    "col_categorical = ['Geography','Gender','Tenure','NumOfProducts','HasCrCard','IsActiveMember','Exited']"
   ]
  },
  {
   "cell_type": "code",
   "execution_count": 255,
   "id": "fdcc6cdf",
   "metadata": {},
   "outputs": [],
   "source": [
    "df_numerical = df[col_numerical]\n",
    "df_categorical = df[col_categorical]"
   ]
  },
  {
   "cell_type": "code",
   "execution_count": 256,
   "id": "879d0d21",
   "metadata": {},
   "outputs": [
    {
     "data": {
      "text/html": [
       "<div>\n",
       "<style scoped>\n",
       "    .dataframe tbody tr th:only-of-type {\n",
       "        vertical-align: middle;\n",
       "    }\n",
       "\n",
       "    .dataframe tbody tr th {\n",
       "        vertical-align: top;\n",
       "    }\n",
       "\n",
       "    .dataframe thead th {\n",
       "        text-align: right;\n",
       "    }\n",
       "</style>\n",
       "<table border=\"1\" class=\"dataframe\">\n",
       "  <thead>\n",
       "    <tr style=\"text-align: right;\">\n",
       "      <th></th>\n",
       "      <th>CreditScore</th>\n",
       "      <th>Age</th>\n",
       "      <th>Balance</th>\n",
       "      <th>EstimatedSalary</th>\n",
       "      <th>Exited</th>\n",
       "    </tr>\n",
       "  </thead>\n",
       "  <tbody>\n",
       "    <tr>\n",
       "      <th>0</th>\n",
       "      <td>619</td>\n",
       "      <td>42</td>\n",
       "      <td>0.00</td>\n",
       "      <td>101348.88</td>\n",
       "      <td>1</td>\n",
       "    </tr>\n",
       "    <tr>\n",
       "      <th>1</th>\n",
       "      <td>608</td>\n",
       "      <td>41</td>\n",
       "      <td>83807.86</td>\n",
       "      <td>112542.58</td>\n",
       "      <td>0</td>\n",
       "    </tr>\n",
       "    <tr>\n",
       "      <th>2</th>\n",
       "      <td>502</td>\n",
       "      <td>42</td>\n",
       "      <td>159660.80</td>\n",
       "      <td>113931.57</td>\n",
       "      <td>1</td>\n",
       "    </tr>\n",
       "    <tr>\n",
       "      <th>3</th>\n",
       "      <td>699</td>\n",
       "      <td>39</td>\n",
       "      <td>0.00</td>\n",
       "      <td>93826.63</td>\n",
       "      <td>0</td>\n",
       "    </tr>\n",
       "    <tr>\n",
       "      <th>4</th>\n",
       "      <td>850</td>\n",
       "      <td>43</td>\n",
       "      <td>125510.82</td>\n",
       "      <td>79084.10</td>\n",
       "      <td>0</td>\n",
       "    </tr>\n",
       "    <tr>\n",
       "      <th>...</th>\n",
       "      <td>...</td>\n",
       "      <td>...</td>\n",
       "      <td>...</td>\n",
       "      <td>...</td>\n",
       "      <td>...</td>\n",
       "    </tr>\n",
       "    <tr>\n",
       "      <th>9995</th>\n",
       "      <td>771</td>\n",
       "      <td>39</td>\n",
       "      <td>0.00</td>\n",
       "      <td>96270.64</td>\n",
       "      <td>0</td>\n",
       "    </tr>\n",
       "    <tr>\n",
       "      <th>9996</th>\n",
       "      <td>516</td>\n",
       "      <td>35</td>\n",
       "      <td>57369.61</td>\n",
       "      <td>101699.77</td>\n",
       "      <td>0</td>\n",
       "    </tr>\n",
       "    <tr>\n",
       "      <th>9997</th>\n",
       "      <td>709</td>\n",
       "      <td>36</td>\n",
       "      <td>0.00</td>\n",
       "      <td>42085.58</td>\n",
       "      <td>1</td>\n",
       "    </tr>\n",
       "    <tr>\n",
       "      <th>9998</th>\n",
       "      <td>772</td>\n",
       "      <td>42</td>\n",
       "      <td>75075.31</td>\n",
       "      <td>92888.52</td>\n",
       "      <td>1</td>\n",
       "    </tr>\n",
       "    <tr>\n",
       "      <th>9999</th>\n",
       "      <td>792</td>\n",
       "      <td>28</td>\n",
       "      <td>130142.79</td>\n",
       "      <td>38190.78</td>\n",
       "      <td>0</td>\n",
       "    </tr>\n",
       "  </tbody>\n",
       "</table>\n",
       "<p>10000 rows × 5 columns</p>\n",
       "</div>"
      ],
      "text/plain": [
       "      CreditScore  Age    Balance  EstimatedSalary  Exited\n",
       "0             619   42       0.00        101348.88       1\n",
       "1             608   41   83807.86        112542.58       0\n",
       "2             502   42  159660.80        113931.57       1\n",
       "3             699   39       0.00         93826.63       0\n",
       "4             850   43  125510.82         79084.10       0\n",
       "...           ...  ...        ...              ...     ...\n",
       "9995          771   39       0.00         96270.64       0\n",
       "9996          516   35   57369.61        101699.77       0\n",
       "9997          709   36       0.00         42085.58       1\n",
       "9998          772   42   75075.31         92888.52       1\n",
       "9999          792   28  130142.79         38190.78       0\n",
       "\n",
       "[10000 rows x 5 columns]"
      ]
     },
     "execution_count": 256,
     "metadata": {},
     "output_type": "execute_result"
    }
   ],
   "source": [
    "df_numerical"
   ]
  },
  {
   "cell_type": "code",
   "execution_count": 257,
   "id": "edd58291",
   "metadata": {},
   "outputs": [
    {
     "data": {
      "text/html": [
       "<div>\n",
       "<style scoped>\n",
       "    .dataframe tbody tr th:only-of-type {\n",
       "        vertical-align: middle;\n",
       "    }\n",
       "\n",
       "    .dataframe tbody tr th {\n",
       "        vertical-align: top;\n",
       "    }\n",
       "\n",
       "    .dataframe thead th {\n",
       "        text-align: right;\n",
       "    }\n",
       "</style>\n",
       "<table border=\"1\" class=\"dataframe\">\n",
       "  <thead>\n",
       "    <tr style=\"text-align: right;\">\n",
       "      <th></th>\n",
       "      <th>Geography</th>\n",
       "      <th>Gender</th>\n",
       "      <th>Tenure</th>\n",
       "      <th>NumOfProducts</th>\n",
       "      <th>HasCrCard</th>\n",
       "      <th>IsActiveMember</th>\n",
       "      <th>Exited</th>\n",
       "    </tr>\n",
       "  </thead>\n",
       "  <tbody>\n",
       "    <tr>\n",
       "      <th>0</th>\n",
       "      <td>France</td>\n",
       "      <td>Female</td>\n",
       "      <td>2</td>\n",
       "      <td>1</td>\n",
       "      <td>1</td>\n",
       "      <td>1</td>\n",
       "      <td>1</td>\n",
       "    </tr>\n",
       "    <tr>\n",
       "      <th>1</th>\n",
       "      <td>Spain</td>\n",
       "      <td>Female</td>\n",
       "      <td>1</td>\n",
       "      <td>1</td>\n",
       "      <td>0</td>\n",
       "      <td>1</td>\n",
       "      <td>0</td>\n",
       "    </tr>\n",
       "    <tr>\n",
       "      <th>2</th>\n",
       "      <td>France</td>\n",
       "      <td>Female</td>\n",
       "      <td>8</td>\n",
       "      <td>3</td>\n",
       "      <td>1</td>\n",
       "      <td>0</td>\n",
       "      <td>1</td>\n",
       "    </tr>\n",
       "    <tr>\n",
       "      <th>3</th>\n",
       "      <td>France</td>\n",
       "      <td>Female</td>\n",
       "      <td>1</td>\n",
       "      <td>2</td>\n",
       "      <td>0</td>\n",
       "      <td>0</td>\n",
       "      <td>0</td>\n",
       "    </tr>\n",
       "    <tr>\n",
       "      <th>4</th>\n",
       "      <td>Spain</td>\n",
       "      <td>Female</td>\n",
       "      <td>2</td>\n",
       "      <td>1</td>\n",
       "      <td>1</td>\n",
       "      <td>1</td>\n",
       "      <td>0</td>\n",
       "    </tr>\n",
       "    <tr>\n",
       "      <th>...</th>\n",
       "      <td>...</td>\n",
       "      <td>...</td>\n",
       "      <td>...</td>\n",
       "      <td>...</td>\n",
       "      <td>...</td>\n",
       "      <td>...</td>\n",
       "      <td>...</td>\n",
       "    </tr>\n",
       "    <tr>\n",
       "      <th>9995</th>\n",
       "      <td>France</td>\n",
       "      <td>Male</td>\n",
       "      <td>5</td>\n",
       "      <td>2</td>\n",
       "      <td>1</td>\n",
       "      <td>0</td>\n",
       "      <td>0</td>\n",
       "    </tr>\n",
       "    <tr>\n",
       "      <th>9996</th>\n",
       "      <td>France</td>\n",
       "      <td>Male</td>\n",
       "      <td>10</td>\n",
       "      <td>1</td>\n",
       "      <td>1</td>\n",
       "      <td>1</td>\n",
       "      <td>0</td>\n",
       "    </tr>\n",
       "    <tr>\n",
       "      <th>9997</th>\n",
       "      <td>France</td>\n",
       "      <td>Female</td>\n",
       "      <td>7</td>\n",
       "      <td>1</td>\n",
       "      <td>0</td>\n",
       "      <td>1</td>\n",
       "      <td>1</td>\n",
       "    </tr>\n",
       "    <tr>\n",
       "      <th>9998</th>\n",
       "      <td>Germany</td>\n",
       "      <td>Male</td>\n",
       "      <td>3</td>\n",
       "      <td>2</td>\n",
       "      <td>1</td>\n",
       "      <td>0</td>\n",
       "      <td>1</td>\n",
       "    </tr>\n",
       "    <tr>\n",
       "      <th>9999</th>\n",
       "      <td>France</td>\n",
       "      <td>Female</td>\n",
       "      <td>4</td>\n",
       "      <td>1</td>\n",
       "      <td>1</td>\n",
       "      <td>0</td>\n",
       "      <td>0</td>\n",
       "    </tr>\n",
       "  </tbody>\n",
       "</table>\n",
       "<p>10000 rows × 7 columns</p>\n",
       "</div>"
      ],
      "text/plain": [
       "     Geography  Gender  Tenure  NumOfProducts  HasCrCard  IsActiveMember  \\\n",
       "0       France  Female       2              1          1               1   \n",
       "1        Spain  Female       1              1          0               1   \n",
       "2       France  Female       8              3          1               0   \n",
       "3       France  Female       1              2          0               0   \n",
       "4        Spain  Female       2              1          1               1   \n",
       "...        ...     ...     ...            ...        ...             ...   \n",
       "9995    France    Male       5              2          1               0   \n",
       "9996    France    Male      10              1          1               1   \n",
       "9997    France  Female       7              1          0               1   \n",
       "9998   Germany    Male       3              2          1               0   \n",
       "9999    France  Female       4              1          1               0   \n",
       "\n",
       "      Exited  \n",
       "0          1  \n",
       "1          0  \n",
       "2          1  \n",
       "3          0  \n",
       "4          0  \n",
       "...      ...  \n",
       "9995       0  \n",
       "9996       0  \n",
       "9997       1  \n",
       "9998       1  \n",
       "9999       0  \n",
       "\n",
       "[10000 rows x 7 columns]"
      ]
     },
     "execution_count": 257,
     "metadata": {},
     "output_type": "execute_result"
    }
   ],
   "source": [
    "df_categorical"
   ]
  },
  {
   "cell_type": "code",
   "execution_count": null,
   "id": "dc8533b1",
   "metadata": {},
   "outputs": [],
   "source": []
  },
  {
   "cell_type": "code",
   "execution_count": null,
   "id": "d3c59a42",
   "metadata": {},
   "outputs": [],
   "source": []
  },
  {
   "cell_type": "markdown",
   "id": "dc48c4be",
   "metadata": {},
   "source": [
    "# Exploratory Data Analysis:"
   ]
  },
  {
   "cell_type": "markdown",
   "id": "eef7dff1",
   "metadata": {},
   "source": [
    "## EDA of Numerical Columns:"
   ]
  },
  {
   "cell_type": "code",
   "execution_count": 258,
   "id": "c86febbb",
   "metadata": {},
   "outputs": [
    {
     "data": {
      "text/plain": [
       "['CreditScore', 'Age', 'Balance', 'EstimatedSalary', 'Exited']"
      ]
     },
     "execution_count": 258,
     "metadata": {},
     "output_type": "execute_result"
    }
   ],
   "source": [
    "col_numerical"
   ]
  },
  {
   "cell_type": "markdown",
   "id": "f1679281",
   "metadata": {},
   "source": [
    "## EDA Of CreditScore:"
   ]
  },
  {
   "cell_type": "code",
   "execution_count": 259,
   "id": "2957508c",
   "metadata": {},
   "outputs": [
    {
     "data": {
      "text/plain": [
       "<seaborn.axisgrid.FacetGrid at 0x1765f774790>"
      ]
     },
     "execution_count": 259,
     "metadata": {},
     "output_type": "execute_result"
    },
    {
     "data": {
      "image/png": "[encoded data removed]",
      "text/plain": [
       "<Figure size 558.875x500 with 1 Axes>"
      ]
     },
     "metadata": {},
     "output_type": "display_data"
    }
   ],
   "source": [
    "sns.displot(df_numerical, x='CreditScore',hue='Exited', kde=True )"
   ]
  },
  {
   "cell_type": "code",
   "execution_count": 260,
   "id": "0b653b54",
   "metadata": {},
   "outputs": [
    {
     "data": {
      "text/plain": [
       "<seaborn.axisgrid.FacetGrid at 0x1765f69ae90>"
      ]
     },
     "execution_count": 260,
     "metadata": {},
     "output_type": "execute_result"
    },
    {
     "data": {
      "image/png": "[encoded data removed]",
      "text/plain": [
       "<Figure size 500x500 with 1 Axes>"
      ]
     },
     "metadata": {},
     "output_type": "display_data"
    }
   ],
   "source": [
    "sns.FacetGrid(df_numerical, hue='Exited',height=5).map(sns.distplot,'CreditScore' )"
   ]
  },
  {
   "cell_type": "markdown",
   "id": "5c7f35d7",
   "metadata": {},
   "source": [
    "### COMMENT:\n",
    "    \n",
    "        The graphs for both groups is almost same, hence No particular difference can be observed to infer any difference."
   ]
  },
  {
   "cell_type": "code",
   "execution_count": 261,
   "id": "d77951f3",
   "metadata": {},
   "outputs": [
    {
     "data": {
      "text/plain": [
       "<Axes: ylabel='CreditScore'>"
      ]
     },
     "execution_count": 261,
     "metadata": {},
     "output_type": "execute_result"
    },
    {
     "data": {
      "image/png": "[encoded data removed]",
      "text/plain": [
       "<Figure size 640x480 with 1 Axes>"
      ]
     },
     "metadata": {},
     "output_type": "display_data"
    }
   ],
   "source": [
    "sns.boxplot(df_numerical, hue='Exited',y='CreditScore')"
   ]
  },
  {
   "cell_type": "code",
   "execution_count": 262,
   "id": "e2aeca85",
   "metadata": {},
   "outputs": [
    {
     "data": {
      "text/html": [
       "<div>\n",
       "<style scoped>\n",
       "    .dataframe tbody tr th:only-of-type {\n",
       "        vertical-align: middle;\n",
       "    }\n",
       "\n",
       "    .dataframe tbody tr th {\n",
       "        vertical-align: top;\n",
       "    }\n",
       "\n",
       "    .dataframe thead tr th {\n",
       "        text-align: left;\n",
       "    }\n",
       "\n",
       "    .dataframe thead tr:last-of-type th {\n",
       "        text-align: right;\n",
       "    }\n",
       "</style>\n",
       "<table border=\"1\" class=\"dataframe\">\n",
       "  <thead>\n",
       "    <tr>\n",
       "      <th></th>\n",
       "      <th colspan=\"8\" halign=\"left\">CreditScore</th>\n",
       "    </tr>\n",
       "    <tr>\n",
       "      <th></th>\n",
       "      <th>count</th>\n",
       "      <th>mean</th>\n",
       "      <th>std</th>\n",
       "      <th>min</th>\n",
       "      <th>25%</th>\n",
       "      <th>50%</th>\n",
       "      <th>75%</th>\n",
       "      <th>max</th>\n",
       "    </tr>\n",
       "    <tr>\n",
       "      <th>Exited</th>\n",
       "      <th></th>\n",
       "      <th></th>\n",
       "      <th></th>\n",
       "      <th></th>\n",
       "      <th></th>\n",
       "      <th></th>\n",
       "      <th></th>\n",
       "      <th></th>\n",
       "    </tr>\n",
       "  </thead>\n",
       "  <tbody>\n",
       "    <tr>\n",
       "      <th>0</th>\n",
       "      <td>7963.0</td>\n",
       "      <td>651.853196</td>\n",
       "      <td>95.653837</td>\n",
       "      <td>405.0</td>\n",
       "      <td>585.0</td>\n",
       "      <td>653.0</td>\n",
       "      <td>718.0</td>\n",
       "      <td>850.0</td>\n",
       "    </tr>\n",
       "    <tr>\n",
       "      <th>1</th>\n",
       "      <td>2037.0</td>\n",
       "      <td>645.351497</td>\n",
       "      <td>100.321503</td>\n",
       "      <td>350.0</td>\n",
       "      <td>578.0</td>\n",
       "      <td>646.0</td>\n",
       "      <td>716.0</td>\n",
       "      <td>850.0</td>\n",
       "    </tr>\n",
       "  </tbody>\n",
       "</table>\n",
       "</div>"
      ],
      "text/plain": [
       "       CreditScore                                                           \n",
       "             count        mean         std    min    25%    50%    75%    max\n",
       "Exited                                                                       \n",
       "0           7963.0  651.853196   95.653837  405.0  585.0  653.0  718.0  850.0\n",
       "1           2037.0  645.351497  100.321503  350.0  578.0  646.0  716.0  850.0"
      ]
     },
     "execution_count": 262,
     "metadata": {},
     "output_type": "execute_result"
    }
   ],
   "source": [
    "df_numerical[['CreditScore','Exited']].groupby('Exited').describe()"
   ]
  },
  {
   "cell_type": "markdown",
   "id": "7b1e2539",
   "metadata": {},
   "source": [
    "### COMMENT: \n",
    "\n",
    "    The boxplots of CreditScore for two groups doesn't infer any observational difference.\n",
    "    \n",
    "    Observations:\n",
    "        25% of customers have Credit Score less than range of 575-585 for both groups.\n",
    "        50% of customers have Credit Score less than range of 645-655 for both groups.\n",
    "        75% of customers have Credit Score less than range of 715-720 for both groups.\n",
    "        100% of customer have Credit Score less than range of 850 for both groups."
   ]
  },
  {
   "cell_type": "code",
   "execution_count": 263,
   "id": "7aeeff91",
   "metadata": {},
   "outputs": [
    {
     "data": {
      "text/plain": [
       "<Axes: ylabel='CreditScore'>"
      ]
     },
     "execution_count": 263,
     "metadata": {},
     "output_type": "execute_result"
    },
    {
     "data": {
      "image/png": "[encoded data removed]",
      "text/plain": [
       "<Figure size 640x480 with 1 Axes>"
      ]
     },
     "metadata": {},
     "output_type": "display_data"
    }
   ],
   "source": [
    "sns.violinplot(df_numerical, y='CreditScore', hue='Exited')"
   ]
  },
  {
   "cell_type": "markdown",
   "id": "97cbe31d",
   "metadata": {},
   "source": [
    "### COMMENT:\n",
    "    \n",
    "    No particular inference can be made."
   ]
  },
  {
   "cell_type": "code",
   "execution_count": null,
   "id": "3a286923",
   "metadata": {},
   "outputs": [],
   "source": []
  },
  {
   "cell_type": "markdown",
   "id": "1963595a",
   "metadata": {},
   "source": [
    "## EDA Of Age:"
   ]
  },
  {
   "cell_type": "code",
   "execution_count": 264,
   "id": "b50ec87b",
   "metadata": {
    "scrolled": true
   },
   "outputs": [
    {
     "data": {
      "text/plain": [
       "<seaborn.axisgrid.FacetGrid at 0x1765f92b4d0>"
      ]
     },
     "execution_count": 264,
     "metadata": {},
     "output_type": "execute_result"
    },
    {
     "data": {
      "image/png": "[encoded data removed]",
      "text/plain": [
       "<Figure size 558.875x500 with 1 Axes>"
      ]
     },
     "metadata": {},
     "output_type": "display_data"
    }
   ],
   "source": [
    "sns.displot(df_numerical, x='Age',hue='Exited', kde=True )"
   ]
  },
  {
   "cell_type": "code",
   "execution_count": 265,
   "id": "a9b602dd",
   "metadata": {
    "scrolled": false
   },
   "outputs": [
    {
     "data": {
      "image/png": "[encoded data removed]",
      "text/plain": [
       "<Figure size 500x500 with 1 Axes>"
      ]
     },
     "metadata": {},
     "output_type": "display_data"
    }
   ],
   "source": [
    "sns.FacetGrid(df_numerical, hue='Exited',height=5).map(sns.distplot,'Age' )\n",
    "plt.savefig('age_displot.png')"
   ]
  },
  {
   "cell_type": "code",
   "execution_count": 266,
   "id": "6958c19d",
   "metadata": {},
   "outputs": [
    {
     "data": {
      "text/html": [
       "<div>\n",
       "<style scoped>\n",
       "    .dataframe tbody tr th:only-of-type {\n",
       "        vertical-align: middle;\n",
       "    }\n",
       "\n",
       "    .dataframe tbody tr th {\n",
       "        vertical-align: top;\n",
       "    }\n",
       "\n",
       "    .dataframe thead tr th {\n",
       "        text-align: left;\n",
       "    }\n",
       "\n",
       "    .dataframe thead tr:last-of-type th {\n",
       "        text-align: right;\n",
       "    }\n",
       "</style>\n",
       "<table border=\"1\" class=\"dataframe\">\n",
       "  <thead>\n",
       "    <tr>\n",
       "      <th></th>\n",
       "      <th colspan=\"8\" halign=\"left\">Age</th>\n",
       "    </tr>\n",
       "    <tr>\n",
       "      <th></th>\n",
       "      <th>count</th>\n",
       "      <th>mean</th>\n",
       "      <th>std</th>\n",
       "      <th>min</th>\n",
       "      <th>25%</th>\n",
       "      <th>50%</th>\n",
       "      <th>75%</th>\n",
       "      <th>max</th>\n",
       "    </tr>\n",
       "    <tr>\n",
       "      <th>Exited</th>\n",
       "      <th></th>\n",
       "      <th></th>\n",
       "      <th></th>\n",
       "      <th></th>\n",
       "      <th></th>\n",
       "      <th></th>\n",
       "      <th></th>\n",
       "      <th></th>\n",
       "    </tr>\n",
       "  </thead>\n",
       "  <tbody>\n",
       "    <tr>\n",
       "      <th>0</th>\n",
       "      <td>7963.0</td>\n",
       "      <td>37.408389</td>\n",
       "      <td>10.125363</td>\n",
       "      <td>18.0</td>\n",
       "      <td>31.0</td>\n",
       "      <td>36.0</td>\n",
       "      <td>41.0</td>\n",
       "      <td>92.0</td>\n",
       "    </tr>\n",
       "    <tr>\n",
       "      <th>1</th>\n",
       "      <td>2037.0</td>\n",
       "      <td>44.837997</td>\n",
       "      <td>9.761562</td>\n",
       "      <td>18.0</td>\n",
       "      <td>38.0</td>\n",
       "      <td>45.0</td>\n",
       "      <td>51.0</td>\n",
       "      <td>84.0</td>\n",
       "    </tr>\n",
       "  </tbody>\n",
       "</table>\n",
       "</div>"
      ],
      "text/plain": [
       "           Age                                                    \n",
       "         count       mean        std   min   25%   50%   75%   max\n",
       "Exited                                                            \n",
       "0       7963.0  37.408389  10.125363  18.0  31.0  36.0  41.0  92.0\n",
       "1       2037.0  44.837997   9.761562  18.0  38.0  45.0  51.0  84.0"
      ]
     },
     "execution_count": 266,
     "metadata": {},
     "output_type": "execute_result"
    }
   ],
   "source": [
    "df_numerical[['Age','Exited']].groupby('Exited').describe()"
   ]
  },
  {
   "cell_type": "markdown",
   "id": "de675976",
   "metadata": {},
   "source": [
    "### COMMENT:\n",
    "\n",
    "     We can observe there is a clear difference between the two groups,\n",
    "     \n",
    "     The age group of 30-40 have more chances to stay.\n",
    "     The age group of 40-50 are more likely to exit."
   ]
  },
  {
   "cell_type": "code",
   "execution_count": 267,
   "id": "3f0adc25",
   "metadata": {},
   "outputs": [
    {
     "data": {
      "text/plain": [
       "<matplotlib.legend.Legend at 0x1765fe60ed0>"
      ]
     },
     "execution_count": 267,
     "metadata": {},
     "output_type": "execute_result"
    },
    {
     "data": {
      "image/png": "[encoded data removed]",
      "text/plain": [
       "<Figure size 640x480 with 1 Axes>"
      ]
     },
     "metadata": {},
     "output_type": "display_data"
    }
   ],
   "source": [
    "sns.boxplot(df_numerical, x='Exited',y='Age',hue='Exited')\n",
    "plt.legend()"
   ]
  },
  {
   "cell_type": "code",
   "execution_count": 268,
   "id": "b63cff19",
   "metadata": {},
   "outputs": [
    {
     "data": {
      "text/html": [
       "<div>\n",
       "<style scoped>\n",
       "    .dataframe tbody tr th:only-of-type {\n",
       "        vertical-align: middle;\n",
       "    }\n",
       "\n",
       "    .dataframe tbody tr th {\n",
       "        vertical-align: top;\n",
       "    }\n",
       "\n",
       "    .dataframe thead tr th {\n",
       "        text-align: left;\n",
       "    }\n",
       "\n",
       "    .dataframe thead tr:last-of-type th {\n",
       "        text-align: right;\n",
       "    }\n",
       "</style>\n",
       "<table border=\"1\" class=\"dataframe\">\n",
       "  <thead>\n",
       "    <tr>\n",
       "      <th></th>\n",
       "      <th colspan=\"8\" halign=\"left\">Age</th>\n",
       "    </tr>\n",
       "    <tr>\n",
       "      <th></th>\n",
       "      <th>count</th>\n",
       "      <th>mean</th>\n",
       "      <th>std</th>\n",
       "      <th>min</th>\n",
       "      <th>25%</th>\n",
       "      <th>50%</th>\n",
       "      <th>75%</th>\n",
       "      <th>max</th>\n",
       "    </tr>\n",
       "    <tr>\n",
       "      <th>Exited</th>\n",
       "      <th></th>\n",
       "      <th></th>\n",
       "      <th></th>\n",
       "      <th></th>\n",
       "      <th></th>\n",
       "      <th></th>\n",
       "      <th></th>\n",
       "      <th></th>\n",
       "    </tr>\n",
       "  </thead>\n",
       "  <tbody>\n",
       "    <tr>\n",
       "      <th>0</th>\n",
       "      <td>7963.0</td>\n",
       "      <td>37.408389</td>\n",
       "      <td>10.125363</td>\n",
       "      <td>18.0</td>\n",
       "      <td>31.0</td>\n",
       "      <td>36.0</td>\n",
       "      <td>41.0</td>\n",
       "      <td>92.0</td>\n",
       "    </tr>\n",
       "    <tr>\n",
       "      <th>1</th>\n",
       "      <td>2037.0</td>\n",
       "      <td>44.837997</td>\n",
       "      <td>9.761562</td>\n",
       "      <td>18.0</td>\n",
       "      <td>38.0</td>\n",
       "      <td>45.0</td>\n",
       "      <td>51.0</td>\n",
       "      <td>84.0</td>\n",
       "    </tr>\n",
       "  </tbody>\n",
       "</table>\n",
       "</div>"
      ],
      "text/plain": [
       "           Age                                                    \n",
       "         count       mean        std   min   25%   50%   75%   max\n",
       "Exited                                                            \n",
       "0       7963.0  37.408389  10.125363  18.0  31.0  36.0  41.0  92.0\n",
       "1       2037.0  44.837997   9.761562  18.0  38.0  45.0  51.0  84.0"
      ]
     },
     "execution_count": 268,
     "metadata": {},
     "output_type": "execute_result"
    }
   ],
   "source": [
    "df_numerical[['Age','Exited']].groupby('Exited').describe()"
   ]
  },
  {
   "cell_type": "markdown",
   "id": "5cec0879",
   "metadata": {},
   "source": [
    "### COMMENT:\n",
    "    \n",
    "    The IQR of both the groups are almost overlapping between the range of 37 - 40"
   ]
  },
  {
   "cell_type": "code",
   "execution_count": 269,
   "id": "4debc5ec",
   "metadata": {},
   "outputs": [
    {
     "data": {
      "image/png": "[encoded data removed]",
      "text/plain": [
       "<Figure size 640x480 with 1 Axes>"
      ]
     },
     "metadata": {},
     "output_type": "display_data"
    }
   ],
   "source": [
    "sns.violinplot(df_numerical,x='Exited',y='Age',hue='Exited')\n",
    "plt.savefig('age_violing.png')"
   ]
  },
  {
   "cell_type": "markdown",
   "id": "2bcd8199",
   "metadata": {},
   "source": [
    "### COMMENT:\n",
    "\n",
    "    Observations are same to that of Distribution Density Plot, no new particular observations can be observed"
   ]
  },
  {
   "cell_type": "code",
   "execution_count": 270,
   "id": "7b6252c5",
   "metadata": {},
   "outputs": [],
   "source": [
    "os.chdir('C:\\\\Users\\\\Mohammad\\\\Desktop\\\\')"
   ]
  },
  {
   "cell_type": "code",
   "execution_count": 271,
   "id": "bedd2b2c",
   "metadata": {},
   "outputs": [],
   "source": [
    "os.chdir('C:\\\\Users\\\\Mohammad\\\\Desktop\\\\upgrad\\\\milestone 3\\\\week 12')"
   ]
  },
  {
   "cell_type": "markdown",
   "id": "2af1e842",
   "metadata": {},
   "source": [
    "## EDA Of Balance"
   ]
  },
  {
   "cell_type": "code",
   "execution_count": 272,
   "id": "85ba7ff7",
   "metadata": {},
   "outputs": [
    {
     "data": {
      "text/plain": [
       "<seaborn.axisgrid.FacetGrid at 0x1765ff5cd50>"
      ]
     },
     "execution_count": 272,
     "metadata": {},
     "output_type": "execute_result"
    },
    {
     "data": {
      "image/png": "[encoded data removed]",
      "text/plain": [
       "<Figure size 558.875x500 with 1 Axes>"
      ]
     },
     "metadata": {},
     "output_type": "display_data"
    }
   ],
   "source": [
    "sns.displot(df_numerical, x='Balance',hue='Exited', kde=True )"
   ]
  },
  {
   "cell_type": "code",
   "execution_count": 273,
   "id": "d9f84d0e",
   "metadata": {},
   "outputs": [
    {
     "data": {
      "text/plain": [
       "<seaborn.axisgrid.FacetGrid at 0x176612c2550>"
      ]
     },
     "execution_count": 273,
     "metadata": {},
     "output_type": "execute_result"
    },
    {
     "data": {
      "image/png": "[encoded data removed]",
      "text/plain": [
       "<Figure size 500x500 with 1 Axes>"
      ]
     },
     "metadata": {},
     "output_type": "display_data"
    }
   ],
   "source": [
    "sns.FacetGrid(df_numerical, hue='Exited',height=5).map(sns.distplot,'Balance' )"
   ]
  },
  {
   "cell_type": "markdown",
   "id": "725a7b3f",
   "metadata": {},
   "source": [
    "### COMMENT:\n",
    "    \n",
    "    The Distribution Density of Balance for both the groups doesn't show any difference."
   ]
  },
  {
   "cell_type": "code",
   "execution_count": 274,
   "id": "61434182",
   "metadata": {},
   "outputs": [
    {
     "data": {
      "text/plain": [
       "<matplotlib.legend.Legend at 0x176611d2810>"
      ]
     },
     "execution_count": 274,
     "metadata": {},
     "output_type": "execute_result"
    },
    {
     "data": {
      "image/png": "[encoded data removed]",
      "text/plain": [
       "<Figure size 640x480 with 1 Axes>"
      ]
     },
     "metadata": {},
     "output_type": "display_data"
    }
   ],
   "source": [
    "sns.boxplot(df_numerical, x='Exited',y='Balance',hue='Exited')\n",
    "plt.legend()"
   ]
  },
  {
   "cell_type": "markdown",
   "id": "1e607151",
   "metadata": {},
   "source": [
    "### COMMENT:\n",
    "\n",
    "    The Box Plot of Balance between two groups show The IQR is almost overlapping for both the groups, hence no insights can be \n",
    "    made."
   ]
  },
  {
   "cell_type": "code",
   "execution_count": 275,
   "id": "b7ac6a20",
   "metadata": {},
   "outputs": [
    {
     "data": {
      "text/plain": [
       "<Axes: xlabel='Exited', ylabel='Balance'>"
      ]
     },
     "execution_count": 275,
     "metadata": {},
     "output_type": "execute_result"
    },
    {
     "data": {
      "image/png": "[encoded data removed]",
      "text/plain": [
       "<Figure size 640x480 with 1 Axes>"
      ]
     },
     "metadata": {},
     "output_type": "display_data"
    }
   ],
   "source": [
    "sns.violinplot(df_numerical,x='Exited',y='Balance',hue='Exited')"
   ]
  },
  {
   "cell_type": "markdown",
   "id": "fb58dcf1",
   "metadata": {},
   "source": [
    "## EDA Of Estimated Salary"
   ]
  },
  {
   "cell_type": "code",
   "execution_count": 276,
   "id": "3a2cf362",
   "metadata": {},
   "outputs": [
    {
     "data": {
      "text/plain": [
       "<seaborn.axisgrid.FacetGrid at 0x176616052d0>"
      ]
     },
     "execution_count": 276,
     "metadata": {},
     "output_type": "execute_result"
    },
    {
     "data": {
      "image/png": "[encoded data removed]",
      "text/plain": [
       "<Figure size 558.875x500 with 1 Axes>"
      ]
     },
     "metadata": {},
     "output_type": "display_data"
    }
   ],
   "source": [
    "sns.displot(df_numerical, x='EstimatedSalary',hue='Exited', kde=True )"
   ]
  },
  {
   "cell_type": "code",
   "execution_count": 277,
   "id": "3b2b1d1b",
   "metadata": {},
   "outputs": [
    {
     "data": {
      "text/plain": [
       "<seaborn.axisgrid.FacetGrid at 0x1766123e510>"
      ]
     },
     "execution_count": 277,
     "metadata": {},
     "output_type": "execute_result"
    },
    {
     "data": {
      "image/png": "[encoded data removed]",
      "text/plain": [
       "<Figure size 500x500 with 1 Axes>"
      ]
     },
     "metadata": {},
     "output_type": "display_data"
    }
   ],
   "source": [
    "sns.FacetGrid(df_numerical, hue='Exited',height=5).map(sns.distplot,'EstimatedSalary' )"
   ]
  },
  {
   "cell_type": "markdown",
   "id": "cab01d87",
   "metadata": {},
   "source": [
    "### COMMENT:\n",
    "    \n",
    "    The Density Plot of Estimated Salary for both the groups does'nt show any valuable insights."
   ]
  },
  {
   "cell_type": "code",
   "execution_count": 278,
   "id": "444feb96",
   "metadata": {},
   "outputs": [
    {
     "data": {
      "text/plain": [
       "<matplotlib.legend.Legend at 0x176619527d0>"
      ]
     },
     "execution_count": 278,
     "metadata": {},
     "output_type": "execute_result"
    },
    {
     "data": {
      "image/png": "[encoded data removed]",
      "text/plain": [
       "<Figure size 640x480 with 1 Axes>"
      ]
     },
     "metadata": {},
     "output_type": "display_data"
    }
   ],
   "source": [
    "sns.boxplot(df_numerical, x='Exited',y='EstimatedSalary',hue='Exited')\n",
    "plt.legend()"
   ]
  },
  {
   "cell_type": "markdown",
   "id": "be77db59",
   "metadata": {},
   "source": [
    "### COMMENT:\n",
    "    \n",
    "    The BoxPlots of Estimated Salary of both the groups does'nt show any difference, hence no insights can be made."
   ]
  },
  {
   "cell_type": "code",
   "execution_count": 279,
   "id": "a6518831",
   "metadata": {},
   "outputs": [
    {
     "data": {
      "text/plain": [
       "<Axes: xlabel='Exited', ylabel='EstimatedSalary'>"
      ]
     },
     "execution_count": 279,
     "metadata": {},
     "output_type": "execute_result"
    },
    {
     "data": {
      "image/png": "[encoded data removed]",
      "text/plain": [
       "<Figure size 640x480 with 1 Axes>"
      ]
     },
     "metadata": {},
     "output_type": "display_data"
    }
   ],
   "source": [
    "sns.violinplot(df_numerical,x='Exited',y='EstimatedSalary',hue='Exited')"
   ]
  },
  {
   "cell_type": "markdown",
   "id": "1be5073f",
   "metadata": {},
   "source": [
    "### COMMENT:\n",
    "    \n",
    "    The Violin plots does'nt show any valuable observations."
   ]
  },
  {
   "cell_type": "code",
   "execution_count": null,
   "id": "02edecce",
   "metadata": {},
   "outputs": [],
   "source": []
  },
  {
   "cell_type": "markdown",
   "id": "ff3c985b",
   "metadata": {},
   "source": [
    "## Bivariate Analysis:"
   ]
  },
  {
   "cell_type": "code",
   "execution_count": null,
   "id": "5ac4f313",
   "metadata": {},
   "outputs": [],
   "source": [
    "sns.pairplot(df_numerical,hue='Exited')"
   ]
  },
  {
   "cell_type": "markdown",
   "id": "b8cf8355",
   "metadata": {},
   "source": [
    "### COMMENT:\n",
    "    \n",
    "        Pairplot are a scatter plots plotted between two different features and a distribution plot for the same feature.\n",
    "        \n",
    "        Observations:\n",
    "            We can observe some patterns between Age - CreditScore, Balance - Age and Estimated Salary - Age. "
   ]
  },
  {
   "cell_type": "code",
   "execution_count": null,
   "id": "e0c28dbf",
   "metadata": {},
   "outputs": [],
   "source": []
  },
  {
   "cell_type": "markdown",
   "id": "c482bd71",
   "metadata": {},
   "source": [
    "### Scatter Plots:\n",
    "    \n",
    "    The scatter plots are plotted between Age and Credit Score, Balance and Estimated Salary, between two groups of Exited."
   ]
  },
  {
   "cell_type": "markdown",
   "id": "2d5e3058",
   "metadata": {},
   "source": [
    "### Scatter Plot : Age - Credit Score"
   ]
  },
  {
   "cell_type": "code",
   "execution_count": null,
   "id": "f503de5c",
   "metadata": {},
   "outputs": [],
   "source": [
    "sns.scatterplot(df_numerical, x='Age',y='CreditScore',hue='Exited')\n",
    "plt.savefig('age_cs.png')\n",
    "plt.legend()"
   ]
  },
  {
   "cell_type": "markdown",
   "id": "447cc0fe",
   "metadata": {},
   "source": [
    "### COMMENT:\n",
    "    In the scatter plot we can observe that there is observably more density of Exited points in Age range of 40-60 for all the values of Credit Scores."
   ]
  },
  {
   "cell_type": "markdown",
   "id": "f9d61f90",
   "metadata": {},
   "source": [
    "### Scatter Plot: Age - Balance"
   ]
  },
  {
   "cell_type": "code",
   "execution_count": null,
   "id": "3a5ffc1e",
   "metadata": {},
   "outputs": [],
   "source": [
    "sns.scatterplot(df_numerical, x='Age',y='Balance',hue='Exited')\n",
    "plt.savefig('age-bal.png')\n",
    "plt.legend()"
   ]
  },
  {
   "cell_type": "markdown",
   "id": "5132fc2c",
   "metadata": {},
   "source": [
    "### COMMENT:\n",
    "    We can observe there is a density of points of Exited points in the Age range of 45 - 60 and with Balance range of 100000 - 150000"
   ]
  },
  {
   "cell_type": "markdown",
   "id": "9c9c67c1",
   "metadata": {},
   "source": [
    "### Scatter Plot: Age - Estimated Salary"
   ]
  },
  {
   "cell_type": "code",
   "execution_count": null,
   "id": "d99a6e35",
   "metadata": {},
   "outputs": [],
   "source": [
    "sns.scatterplot(df_numerical, x='Age',y='EstimatedSalary',hue='Exited')\n",
    "plt.legend()\n",
    "plt.savefig('age-es.png')"
   ]
  },
  {
   "cell_type": "markdown",
   "id": "bad63d63",
   "metadata": {},
   "source": [
    "###  COMMENT:\n",
    "    We can observe there is density of people exited in the plot along the whole range of Estimated Salary, There is increased density of people exited in the rang of 40 - 60."
   ]
  },
  {
   "cell_type": "code",
   "execution_count": null,
   "id": "de967621",
   "metadata": {},
   "outputs": [],
   "source": []
  },
  {
   "cell_type": "markdown",
   "id": "d30be75e",
   "metadata": {},
   "source": [
    "## Data Preprocessing/ Cleaning:\n",
    "    \n",
    "    Objective:\n",
    "    we have observed that there are outliers present in the columns of CreditScore and Age, we strive to remove them."
   ]
  },
  {
   "cell_type": "markdown",
   "id": "a181686c",
   "metadata": {},
   "source": [
    "## Normalization:"
   ]
  },
  {
   "cell_type": "code",
   "execution_count": null,
   "id": "bf9f239d",
   "metadata": {},
   "outputs": [],
   "source": [
    "scaler = MinMaxScaler()\n",
    "for col in df_numerical.columns:\n",
    "    scaled=scaler.fit_transform(df_numerical[col].values.reshape(-1,1))\n",
    "    df_numerical[col] = pd.DataFrame(scaled)"
   ]
  },
  {
   "cell_type": "code",
   "execution_count": null,
   "id": "7d0e1177",
   "metadata": {},
   "outputs": [],
   "source": [
    "df_numerical"
   ]
  },
  {
   "cell_type": "code",
   "execution_count": null,
   "id": "083e95bf",
   "metadata": {},
   "outputs": [],
   "source": []
  },
  {
   "cell_type": "code",
   "execution_count": null,
   "id": "b2ba4714",
   "metadata": {},
   "outputs": [],
   "source": []
  },
  {
   "cell_type": "code",
   "execution_count": null,
   "id": "8c0a445e",
   "metadata": {},
   "outputs": [],
   "source": []
  },
  {
   "cell_type": "markdown",
   "id": "8dd2628c",
   "metadata": {},
   "source": [
    "## EDA Of Categorical Columns:"
   ]
  },
  {
   "cell_type": "code",
   "execution_count": null,
   "id": "8f2ac4d4",
   "metadata": {},
   "outputs": [],
   "source": [
    "col_categorical"
   ]
  },
  {
   "cell_type": "code",
   "execution_count": null,
   "id": "85acf0a8",
   "metadata": {
    "scrolled": true
   },
   "outputs": [],
   "source": [
    "df_categorical"
   ]
  },
  {
   "cell_type": "markdown",
   "id": "6e720827",
   "metadata": {},
   "source": [
    "### EDA Of Geography:"
   ]
  },
  {
   "cell_type": "code",
   "execution_count": null,
   "id": "e13fcc33",
   "metadata": {},
   "outputs": [],
   "source": [
    "df_categorical.Geography.value_counts()"
   ]
  },
  {
   "cell_type": "code",
   "execution_count": null,
   "id": "f90023b6",
   "metadata": {},
   "outputs": [],
   "source": [
    "sns.FacetGrid(df_categorical, hue='Exited',height=5).map(sns.histplot,'Geography' )\n",
    "plt.legend()\n",
    "plt.savefig('geography.png')\n",
    "plt.xticks(rotation=45);"
   ]
  },
  {
   "cell_type": "markdown",
   "id": "b23c1c5b",
   "metadata": {},
   "source": [
    "### OBSERVATIONS:\n",
    "    Key observations made on the histogram plot is:\n",
    "        i) We can observe that the percentage of people from Germany Exiting the bank is almost 50% of that of people stayed.\n",
    "        ii) The percentage of people from spain and France who exited is very less compared to that of people who stayed. "
   ]
  },
  {
   "cell_type": "markdown",
   "id": "5b4e909c",
   "metadata": {},
   "source": [
    "### EDA of Gender:"
   ]
  },
  {
   "cell_type": "code",
   "execution_count": null,
   "id": "1a305f93",
   "metadata": {},
   "outputs": [],
   "source": [
    "df_categorical.Gender.value_counts()"
   ]
  },
  {
   "cell_type": "code",
   "execution_count": null,
   "id": "20e69c84",
   "metadata": {},
   "outputs": [],
   "source": [
    "sns.FacetGrid(df_categorical, hue='Exited',height=5).map(sns.histplot,'Gender' )\n",
    "plt.legend()\n",
    "plt.savefig('gender.png')\n",
    "plt.xticks(rotation=45);\n"
   ]
  },
  {
   "cell_type": "markdown",
   "id": "476215b5",
   "metadata": {},
   "source": [
    "### COMMENT:\n",
    "    we can observe that females are more likely to exit the bank compared to male."
   ]
  },
  {
   "cell_type": "code",
   "execution_count": null,
   "id": "5d257e5c",
   "metadata": {},
   "outputs": [],
   "source": []
  },
  {
   "cell_type": "markdown",
   "id": "980a0582",
   "metadata": {},
   "source": [
    "### EDA of Tenure:"
   ]
  },
  {
   "cell_type": "code",
   "execution_count": null,
   "id": "32364921",
   "metadata": {},
   "outputs": [],
   "source": [
    "b = df_categorical.Tenure.value_counts()"
   ]
  },
  {
   "cell_type": "code",
   "execution_count": null,
   "id": "7ac73d08",
   "metadata": {
    "scrolled": false
   },
   "outputs": [],
   "source": [
    "sns.barplot(y=b.values,x= b.index)\n",
    "#plt.xticks(label=list(np.arange(0,11,1)))\n",
    "plt.ylabel('Count')"
   ]
  },
  {
   "cell_type": "markdown",
   "id": "9f1156e3",
   "metadata": {},
   "source": [
    "### COMMENT:\n",
    "    We can observe that the count of people with tenures of 1-9 is almost same, and there are very less people with tenure period of 0 and the people with tenure period 10 is also tends to be very less."
   ]
  },
  {
   "cell_type": "code",
   "execution_count": null,
   "id": "af142085",
   "metadata": {},
   "outputs": [],
   "source": [
    "plt.pie(x=b.values, labels=b.index, autopct='%1.1f%%',shadow=True, explode=[0,0,0,0,0,0,0,0,0,0.05,0.08]);\n",
    "plt.axis('equal')\n",
    "plt.title('Tenure Period')\n",
    "plt.savefig('tenure-pie.png')"
   ]
  },
  {
   "cell_type": "code",
   "execution_count": null,
   "id": "4e330b6d",
   "metadata": {},
   "outputs": [],
   "source": []
  },
  {
   "cell_type": "markdown",
   "id": "c20a0a78",
   "metadata": {},
   "source": [
    "### EDA of NumOfProducts:"
   ]
  },
  {
   "cell_type": "code",
   "execution_count": null,
   "id": "1cb845df",
   "metadata": {},
   "outputs": [],
   "source": [
    "numproducts = df_categorical.NumOfProducts.value_counts()\n",
    "numproducts"
   ]
  },
  {
   "cell_type": "code",
   "execution_count": null,
   "id": "2995d3cf",
   "metadata": {},
   "outputs": [],
   "source": [
    "sns.barplot(x=numproducts.index, y=numproducts.values)\n",
    "plt.xlabel('Number Of Products Bought')\n",
    "plt.ylabel('Count of Bought')\n",
    "plt.title('Bar Graph NumOfProducts vs Count')"
   ]
  },
  {
   "cell_type": "code",
   "execution_count": null,
   "id": "c2d1513d",
   "metadata": {},
   "outputs": [],
   "source": [
    "plt.pie(x=numproducts.values, labels=numproducts.index, autopct='%1.1f%%',shadow=True, explode=[0,0,0.05,0.08]);\n",
    "plt.axis('equal')\n",
    "plt.title('Number of Products Bought')\n",
    "plt.savefig('numproducts-pie.png')"
   ]
  },
  {
   "cell_type": "markdown",
   "id": "ddd89631",
   "metadata": {},
   "source": [
    "### COMMENT:\n",
    "    We can observe the count of people the number of products decreases as the Number Of Products increases, meaning less people have more number of Products."
   ]
  },
  {
   "cell_type": "code",
   "execution_count": null,
   "id": "f8d41c52",
   "metadata": {},
   "outputs": [],
   "source": []
  },
  {
   "cell_type": "markdown",
   "id": "bb47a70c",
   "metadata": {},
   "source": [
    "### EDA of HasCrCard"
   ]
  },
  {
   "cell_type": "code",
   "execution_count": null,
   "id": "120232ea",
   "metadata": {},
   "outputs": [],
   "source": [
    "credcard = df_categorical.HasCrCard.value_counts()\n",
    "credcard"
   ]
  },
  {
   "cell_type": "code",
   "execution_count": null,
   "id": "dcf166ce",
   "metadata": {},
   "outputs": [],
   "source": [
    "sns.barplot(x=credcard.index, y=credcard.values, palette=['blue','orange'])\n",
    "plt.ylabel('Count')\n",
    "plt.xlabel('Has Credit Card')"
   ]
  },
  {
   "cell_type": "markdown",
   "id": "f3a95151",
   "metadata": {},
   "source": [
    "### COMMENT:\n",
    "    The count of people with no credit card is very less compared to count of people with credit card."
   ]
  },
  {
   "cell_type": "markdown",
   "id": "c59661ee",
   "metadata": {},
   "source": [
    "### EDA of IsActiveMember:"
   ]
  },
  {
   "cell_type": "code",
   "execution_count": null,
   "id": "af33c80b",
   "metadata": {},
   "outputs": [],
   "source": [
    "plt.title('IsActiveMember')\n",
    "sns.histplot(df_categorical,x='IsActiveMember',hue='Exited')\n",
    "#plt.xticks(labels=[0,1])\n",
    "plt.savefig('active-member.png')"
   ]
  },
  {
   "cell_type": "markdown",
   "id": "571a0b1d",
   "metadata": {},
   "source": [
    "### COMMENT:\n",
    "    We can observe that there are less people who exited who were a active member."
   ]
  },
  {
   "cell_type": "code",
   "execution_count": null,
   "id": "20203a80",
   "metadata": {},
   "outputs": [],
   "source": []
  },
  {
   "cell_type": "code",
   "execution_count": null,
   "id": "55f20d71",
   "metadata": {},
   "outputs": [],
   "source": []
  },
  {
   "cell_type": "code",
   "execution_count": null,
   "id": "4a4bf88d",
   "metadata": {},
   "outputs": [],
   "source": []
  },
  {
   "cell_type": "markdown",
   "id": "ab345160",
   "metadata": {},
   "source": [
    "## Data Preprocessing / Cleaning:"
   ]
  },
  {
   "cell_type": "code",
   "execution_count": null,
   "id": "0388b129",
   "metadata": {},
   "outputs": [],
   "source": [
    "cat = ['Geography','Gender']\n",
    "df_categorical = pd.get_dummies(df_categorical,columns=cat,drop_first=True,dtype=int)\n",
    "df_categorical"
   ]
  },
  {
   "cell_type": "code",
   "execution_count": null,
   "id": "7736b02c",
   "metadata": {},
   "outputs": [],
   "source": []
  },
  {
   "cell_type": "code",
   "execution_count": null,
   "id": "3cf91e85",
   "metadata": {},
   "outputs": [],
   "source": []
  },
  {
   "cell_type": "markdown",
   "id": "68b34ef5",
   "metadata": {},
   "source": [
    "# STATISTICAL ANALYSIS: "
   ]
  },
  {
   "cell_type": "code",
   "execution_count": null,
   "id": "6ec442c9",
   "metadata": {},
   "outputs": [],
   "source": [
    "df_stayed = df[df.Exited==0]\n",
    "df_exited = df[df.Exited==1]\n",
    "df_stayed.columns"
   ]
  },
  {
   "cell_type": "code",
   "execution_count": null,
   "id": "e1d12171",
   "metadata": {},
   "outputs": [],
   "source": [
    "columns_stats = ['CreditScore','Age','Tenure','Balance','EstimatedSalary']"
   ]
  },
  {
   "cell_type": "code",
   "execution_count": null,
   "id": "8ab74387",
   "metadata": {},
   "outputs": [],
   "source": [
    "def stats_value(col):\n",
    "    print(f'\\nThe Statistical Values : Mean , Median , Standard Deviation and Mode for Column: {col}')\n",
    "    print('Mean:')\n",
    "    print(f'{np.mean(df_stayed[col])} for customers who stayed')\n",
    "    print(f'{np.mean(df_exited[col])} for customers who exited.\\n')\n",
    "    \n",
    "    print('Median:')\n",
    "    print(f'{np.median(df_stayed[col])} for customers who stayed')\n",
    "    print(f'{np.median(df_exited[col])} for customers who exited.\\n')\n",
    "    \n",
    "    print('Standard Deviation:')\n",
    "    print(f'{np.std(df_stayed[col])} for customers who stayed')\n",
    "    print(f'{np.std(df_exited[col])} for customers who exited.\\n')\n",
    "    \n",
    "    "
   ]
  },
  {
   "cell_type": "code",
   "execution_count": null,
   "id": "2b54305a",
   "metadata": {},
   "outputs": [],
   "source": [
    "stats_value('CreditScore')"
   ]
  },
  {
   "cell_type": "markdown",
   "id": "08600148",
   "metadata": {},
   "source": [
    "### COMMENT:\n",
    "    The statistics values of mean, median, std of stayed and exited groups are almost same and show same characteristics"
   ]
  },
  {
   "cell_type": "code",
   "execution_count": null,
   "id": "ebd69274",
   "metadata": {},
   "outputs": [],
   "source": [
    "stats_value('Age')"
   ]
  },
  {
   "cell_type": "markdown",
   "id": "0cf9349a",
   "metadata": {},
   "source": [
    "### COMMENT:\n",
    "    The Mean of stayed is less than exited, meaning the people with more age tends to leave the company.\n",
    "    The Median of stayed is less than exited , meaning the people with more age tends to leave the bank and people with less age tends to not exit the bank.\n",
    "    The std deviation is almost same for both groups."
   ]
  },
  {
   "cell_type": "code",
   "execution_count": null,
   "id": "2824a2ae",
   "metadata": {},
   "outputs": [],
   "source": [
    "stats_value('Tenure')"
   ]
  },
  {
   "cell_type": "markdown",
   "id": "76675bb3",
   "metadata": {},
   "source": [
    "### COMMENT:\n",
    "    The statistical values of Mean,Median and Std are same for both groups and does'nt infer any characteristics differences."
   ]
  },
  {
   "cell_type": "code",
   "execution_count": null,
   "id": "5afc084b",
   "metadata": {},
   "outputs": [],
   "source": [
    "stats_value('Balance')"
   ]
  },
  {
   "cell_type": "markdown",
   "id": "c66adb55",
   "metadata": {},
   "source": [
    "### COMMENT:\n",
    "    The Mean of stayed group is less compared to exited group, this infers that the people who has more Balance accounts are more likely to exit the bank.\n",
    "    \n",
    "    The Median of stayed group is less compared to exited group, this infers that number of people in exited group has more balance.\n",
    "    \n",
    "    The Standard Deviation of exited group is less than the customers who stayed, infering std is less in balance in exited group."
   ]
  },
  {
   "cell_type": "code",
   "execution_count": null,
   "id": "8fa7df4b",
   "metadata": {},
   "outputs": [],
   "source": [
    "stats_value('EstimatedSalary')"
   ]
  },
  {
   "cell_type": "markdown",
   "id": "c8505518",
   "metadata": {},
   "source": [
    "### COMMENT:\n",
    "    The statistical values of Mean,Median and Std are same for both groups and does'nt infer any characteristics differences."
   ]
  },
  {
   "cell_type": "code",
   "execution_count": null,
   "id": "5d488b1a",
   "metadata": {},
   "outputs": [],
   "source": []
  },
  {
   "cell_type": "code",
   "execution_count": null,
   "id": "530dbd46",
   "metadata": {},
   "outputs": [],
   "source": []
  },
  {
   "cell_type": "code",
   "execution_count": null,
   "id": "5e571b5e",
   "metadata": {},
   "outputs": [],
   "source": []
  },
  {
   "cell_type": "code",
   "execution_count": null,
   "id": "51e4185e",
   "metadata": {},
   "outputs": [],
   "source": [
    "df_numerical"
   ]
  },
  {
   "cell_type": "code",
   "execution_count": null,
   "id": "0a2dc900",
   "metadata": {},
   "outputs": [],
   "source": [
    "df_categorical"
   ]
  },
  {
   "cell_type": "code",
   "execution_count": null,
   "id": "fd69781c",
   "metadata": {},
   "outputs": [],
   "source": [
    "df_preprocessed = pd.concat([df_categorical.drop(['Exited'],axis=1),df_numerical],axis=1)"
   ]
  },
  {
   "cell_type": "code",
   "execution_count": null,
   "id": "3121c375",
   "metadata": {},
   "outputs": [],
   "source": [
    "df_preprocessed"
   ]
  },
  {
   "cell_type": "code",
   "execution_count": null,
   "id": "a23eb3d6",
   "metadata": {},
   "outputs": [],
   "source": [
    "X = df_preprocessed.iloc[:,:11]\n",
    "X"
   ]
  },
  {
   "cell_type": "code",
   "execution_count": null,
   "id": "0ada7064",
   "metadata": {},
   "outputs": [],
   "source": [
    "y = df_preprocessed.iloc[:,11:]\n",
    "y"
   ]
  },
  {
   "cell_type": "code",
   "execution_count": null,
   "id": "f0826570",
   "metadata": {},
   "outputs": [],
   "source": [
    "X_train,X_test,y_train,y_test = train_test_split(X,y,test_size=0.2)"
   ]
  },
  {
   "cell_type": "code",
   "execution_count": null,
   "id": "8cdee957",
   "metadata": {},
   "outputs": [],
   "source": []
  },
  {
   "cell_type": "code",
   "execution_count": null,
   "id": "169e9280",
   "metadata": {},
   "outputs": [],
   "source": []
  },
  {
   "cell_type": "code",
   "execution_count": null,
   "id": "fed099a2",
   "metadata": {},
   "outputs": [],
   "source": []
  },
  {
   "cell_type": "markdown",
   "id": "a7c10d06",
   "metadata": {},
   "source": [
    "# Machine Learning Models:"
   ]
  },
  {
   "cell_type": "markdown",
   "id": "fb5bc96c",
   "metadata": {},
   "source": [
    "## KNN (K Nearest Neighbours):\n",
    "    \n",
    "    We will apply KNN Model on our data for the classification problem."
   ]
  },
  {
   "cell_type": "code",
   "execution_count": null,
   "id": "42b58532",
   "metadata": {},
   "outputs": [],
   "source": [
    "knn_model = KNeighborsClassifier()\n",
    "\n",
    "\n",
    "knn_params = [{'n_neighbors':np.arange(1,10,1)}]\n",
    "\n",
    "grid_search = GridSearchCV(knn_model,knn_params,scoring='accuracy',cv=4)\n",
    "\n",
    "grid_search.fit(X_train,y_train)\n",
    "\n",
    "knn_best = grid_search.best_estimator_\n",
    "\n",
    "print(f'The best Knn Model : {knn_best}')\n",
    "print(f'The training accuracy is:{knn_best.score(X_train,y_train)}')\n",
    "print(f'The training accuracy is:{knn_best.score(X_test,y_test)}')"
   ]
  },
  {
   "cell_type": "code",
   "execution_count": null,
   "id": "b8944349",
   "metadata": {},
   "outputs": [],
   "source": [
    "x_train_predicted = knn_best.predict(X_train)\n",
    "x_test_predicted = knn_best.predict(X_test)"
   ]
  },
  {
   "cell_type": "code",
   "execution_count": null,
   "id": "9a971628",
   "metadata": {},
   "outputs": [],
   "source": [
    "# Roc Auc Score\n",
    "ra_score_knn_train = roc_auc_score(y_train,x_train_predicted)\n",
    "print(f'The Roc-Auc Score :{ra_score_knn_train}')\n",
    "ra_score_knn_test = roc_auc_score(y_test,x_test_predicted)\n",
    "print(f'The Roc-Auc Score : {ra_score_knn_test}\\n')\n",
    "\n",
    "\n",
    "# F1 score\n",
    "knn_f1_score_train = f1_score(y_train,x_train_predicted)\n",
    "print(f'The f1 score for Train Data: {knn_f1_score_train}')\n",
    "knn_f1_score_test = f1_score(y_test,x_test_predicted)\n",
    "print(f'The f1 score for Test Data: {knn_f1_score_test}\\n')\n",
    "\n",
    "# Precision Score \n",
    "knn_precision_score_train = precision_score(y_train,x_train_predicted)\n",
    "print(f'The Precision score for Train Data: {knn_precision_score_train}')\n",
    "knn_precision_score_test =precision_score(y_test,x_test_predicted)\n",
    "print(f'The Precision score for Test Data: {knn_precision_score_test}\\n')\n",
    "\n",
    "#Recall \n",
    "knn_recall_score_train = recall_score(y_train,x_train_predicted)\n",
    "print(f'The recall score for Train Data: {knn_recall_score_train}')\n",
    "knn_recall_score_test = recall_score(y_test,x_test_predicted)\n",
    "print(f'The recall score for Test Data: {knn_recall_score_test}\\n')\n",
    "\n",
    "# Accuracy Score\n",
    "knn_acc_score_train = accuracy_score(y_train,x_train_predicted)\n",
    "print(f'The Accuracy score for Train Data: {knn_acc_score_train}')\n",
    "knn_acc_score_test = accuracy_score(y_test,x_test_predicted)\n",
    "print(f'The Accuracy score for Test Data: {knn_acc_score_test}')"
   ]
  },
  {
   "cell_type": "markdown",
   "id": "2480ba1a",
   "metadata": {},
   "source": [
    "### Confusion Matrix:"
   ]
  },
  {
   "cell_type": "code",
   "execution_count": null,
   "id": "2ad3dbb6",
   "metadata": {},
   "outputs": [],
   "source": [
    "x_knn_cf_train = confusion_matrix(y_train,x_train_predicted)\n",
    "print(x_knn_cf_train)\n",
    "sns.heatmap(x_knn_cf_train,annot=True,annot_kws={'size':26},fmt='g',cmap='YlGnBu')\n",
    "plt.title('Confusion Matrix of Train Data.')"
   ]
  },
  {
   "cell_type": "code",
   "execution_count": null,
   "id": "8332fd9b",
   "metadata": {},
   "outputs": [],
   "source": [
    "x_knn_cf_test = confusion_matrix(y_test,x_test_predicted)\n",
    "print(x_knn_cf_test)\n",
    "sns.heatmap(x_knn_cf_test,annot=True,annot_kws={'size':26},fmt='g',cmap='YlGnBu')\n",
    "plt.title('Confusion Matrix of Test Data.')"
   ]
  },
  {
   "cell_type": "code",
   "execution_count": null,
   "id": "69ae1b7b",
   "metadata": {},
   "outputs": [],
   "source": []
  },
  {
   "cell_type": "code",
   "execution_count": null,
   "id": "761e1ca9",
   "metadata": {},
   "outputs": [],
   "source": []
  },
  {
   "cell_type": "markdown",
   "id": "77ef4992",
   "metadata": {},
   "source": [
    "## Logistic Regression:"
   ]
  },
  {
   "cell_type": "code",
   "execution_count": null,
   "id": "b91595cf",
   "metadata": {},
   "outputs": [],
   "source": [
    "grid_params = [{'C':np.geomspace(0.0001,10000,10)}]\n",
    "\n",
    "LRmodel = GridSearchCV(LogisticRegression(max_iter=400,class_weight='balanced'),grid_params)\n",
    "LRmodel.fit(X_train,y_train)\n",
    "\n",
    "logistic_model = LRmodel.best_estimator_\n",
    "\n",
    "print(logistic_model)\n",
    "print('The score for training model:',logistic_model.score(X_train,y_train))\n",
    "print('The score for test model: ',logistic_model.score(X_test,y_test))"
   ]
  },
  {
   "cell_type": "code",
   "execution_count": null,
   "id": "81edda03",
   "metadata": {},
   "outputs": [],
   "source": [
    "lr_train_predicted = logistic_model.predict(X_train)\n",
    "lr_test_predicted = logistic_model.predict(X_test)"
   ]
  },
  {
   "cell_type": "code",
   "execution_count": null,
   "id": "b9048f32",
   "metadata": {},
   "outputs": [],
   "source": [
    "# Roc Auc Score\n",
    "ra_score_lr_train = roc_auc_score(y_train,lr_train_predicted)\n",
    "print(f'The Roc-Auc Score :{ra_score_lr_train}')\n",
    "ra_score_lr_test = roc_auc_score(y_test,lr_test_predicted)\n",
    "print(f'The Roc-Auc Score : {ra_score_lr_test}\\n')\n",
    "\n",
    "\n",
    "# F1 score\n",
    "lr_f1_score_train = f1_score(y_train,lr_train_predicted)\n",
    "print(f'The f1 score for Train Data: {lr_f1_score_train}')\n",
    "lr_f1_score_test = f1_score(y_test,lr_test_predicted)\n",
    "print(f'The f1 score for Test Data: {lr_f1_score_test}\\n')\n",
    "\n",
    "# Precision Score \n",
    "lr_precision_score_train = precision_score(y_train,lr_train_predicted)\n",
    "print(f'The Precision score for Train Data: {lr_precision_score_train}')\n",
    "lr_precision_score_test =precision_score(y_test,lr_test_predicted)\n",
    "print(f'The Precision score for Test Data: {lr_precision_score_test}\\n')\n",
    "\n",
    "#Recall \n",
    "lr_recall_score_train = recall_score(y_train,lr_train_predicted)\n",
    "print(f'The recall score for Train Data: {lr_recall_score_train}')\n",
    "lr_recall_score_test = recall_score(y_test,lr_test_predicted)\n",
    "print(f'The recall score for Test Data: {lr_recall_score_test}\\n')\n",
    "\n",
    "# Accuracy Score\n",
    "lr_acc_score_train = accuracy_score(y_train,lr_train_predicted)\n",
    "print(f'The Accuracy score for Train Data: {lr_acc_score_train}')\n",
    "lr_acc_score_test = accuracy_score(y_test,lr_test_predicted)\n",
    "print(f'The Accuracy score for Test Data: {lr_acc_score_test}')"
   ]
  },
  {
   "cell_type": "code",
   "execution_count": null,
   "id": "2b90996a",
   "metadata": {},
   "outputs": [],
   "source": [
    "x_lr_cf_train = confusion_matrix(y_train,lr_train_predicted)\n",
    "print(x_lr_cf_train)\n",
    "sns.heatmap(x_lr_cf_train,annot=True,annot_kws={'size':26},fmt='g',cmap='YlGnBu')\n",
    "plt.title('Confusion Matrix of Train Data.')"
   ]
  },
  {
   "cell_type": "code",
   "execution_count": null,
   "id": "badac1c4",
   "metadata": {},
   "outputs": [],
   "source": [
    "x_lr_cf_test = confusion_matrix(y_test,lr_test_predicted)\n",
    "print(x_lr_cf_test)\n",
    "sns.heatmap(x_lr_cf_test,annot=True,annot_kws={'size':26},fmt='g',cmap='YlGnBu')\n",
    "plt.title('Confusion Matrix of Test Data.')"
   ]
  },
  {
   "cell_type": "code",
   "execution_count": null,
   "id": "57b1d866",
   "metadata": {},
   "outputs": [],
   "source": [
    "dt_params = [{'max_depth':np.arange(1,10,1),'min_samples_split':np.arange(2,10,1)}]\n",
    "dt_model = DecisionTreeClassifier()\n",
    "\n",
    "dt_gridsearch = GridSearchCV(dt_model,dt_params,cv=4)\n",
    "dt_gridsearch.fit(X_train,y_train)\n",
    "\n",
    "dt_model = dt_gridsearch.best_estimator_\n",
    "print(f'The Decision Tree Model is: {dt_model}')\n",
    "\n",
    "print(f'The Accuracy score for Train Dataset: {dt_model.score(X_train,y_train)}')\n",
    "print(f'The Accuracy score for Test Dataset: {dt_model.score(X_test,y_test)}')"
   ]
  },
  {
   "cell_type": "code",
   "execution_count": null,
   "id": "6c28272d",
   "metadata": {},
   "outputs": [],
   "source": [
    "dt_train_predicted = dt_model.predict(X_train)\n",
    "dt_test_predicted = dt_model.predict(X_test)"
   ]
  },
  {
   "cell_type": "code",
   "execution_count": null,
   "id": "96edff3c",
   "metadata": {},
   "outputs": [],
   "source": [
    "# Roc Auc Score\n",
    "ra_score_dt_train = roc_auc_score(y_train,dt_train_predicted)\n",
    "print(f'The Roc-Auc Score :{ra_score_dt_train}')\n",
    "ra_score_dt_test = roc_auc_score(y_test,dt_test_predicted)\n",
    "print(f'The Roc-Auc Score : {ra_score_dt_test}\\n')\n",
    "\n",
    "\n",
    "# F1 score\n",
    "dt_f1_score_train = f1_score(y_train,dt_train_predicted)\n",
    "print(f'The f1 score for Train Data: {dt_f1_score_train}')\n",
    "dt_f1_score_test = f1_score(y_test,dt_test_predicted)\n",
    "print(f'The f1 score for Test Data: {dt_f1_score_test}\\n')\n",
    "\n",
    "# Precision Score \n",
    "dt_precision_score_train = precision_score(y_train,dt_train_predicted)\n",
    "print(f'The Precision score for Train Data: {dt_precision_score_train}')\n",
    "dt_precision_score_test =precision_score(y_test,lr_test_predicted)\n",
    "print(f'The Precision score for Test Data: {dt_precision_score_test}\\n')\n",
    "\n",
    "#Recall \n",
    "dt_recall_score_train = recall_score(y_train,dt_train_predicted)\n",
    "print(f'The recall score for Train Data: {dt_recall_score_train}')\n",
    "dt_recall_score_test = recall_score(y_test,dt_test_predicted)\n",
    "print(f'The recall score for Test Data: {dt_recall_score_test}\\n')\n",
    "\n",
    "# Accuracy Score\n",
    "dt_acc_score_train = accuracy_score(y_train,dt_train_predicted)\n",
    "print(f'The Accuracy score for Train Data: {dt_acc_score_train}')\n",
    "dt_acc_score_test = accuracy_score(y_test,dt_test_predicted)\n",
    "print(f'The Accuracy score for Test Data: {dt_acc_score_test}')"
   ]
  },
  {
   "cell_type": "code",
   "execution_count": null,
   "id": "127172ec",
   "metadata": {},
   "outputs": [],
   "source": [
    "x_dt_cf_train = confusion_matrix(y_train,dt_train_predicted)\n",
    "print(x_dt_cf_train)\n",
    "sns.heatmap(x_dt_cf_train,annot=True,annot_kws={'size':26},fmt='g',cmap='YlGnBu')\n",
    "plt.title('Confusion Matrix of Train Data.')"
   ]
  },
  {
   "cell_type": "code",
   "execution_count": null,
   "id": "094d8032",
   "metadata": {},
   "outputs": [],
   "source": [
    "x_dt_cf_test = confusion_matrix(y_test,dt_test_predicted)\n",
    "print(x_dt_cf_test)\n",
    "sns.heatmap(x_dt_cf_test,annot=True,annot_kws={'size':26},fmt='g',cmap='YlGnBu')\n",
    "plt.title('Confusion Matrix of Test Data.')"
   ]
  },
  {
   "cell_type": "code",
   "execution_count": null,
   "id": "14e4a283",
   "metadata": {},
   "outputs": [],
   "source": []
  },
  {
   "cell_type": "markdown",
   "id": "8bb314b8",
   "metadata": {},
   "source": [
    "## Random Forest:"
   ]
  },
  {
   "cell_type": "code",
   "execution_count": null,
   "id": "03c9d60a",
   "metadata": {},
   "outputs": [],
   "source": [
    "rf_model = RandomForestClassifier()\n",
    "rf_params = [{'max_depth':np.arange(1,15,1),'n_estimators':np.arange(50,400,50)}]\n",
    "\n",
    "rf_gridsearch = GridSearchCV(rf_model,rf_params,cv=4)\n",
    "rf_gridsearch.fit(X_train,y_train)\n",
    "\n",
    "rf_model = rf_gridsearch.best_estimator_\n",
    "print(f'The Random Forest Model is: {rf_model}')\n",
    "\n",
    "print(f'The Accuracy score for Train Dataset: {rf_model.score(X_train,y_train)}')\n",
    "print(f'The Accuracy score for Test Dataset: {rf_model.score(X_test,y_test)}')"
   ]
  },
  {
   "cell_type": "code",
   "execution_count": null,
   "id": "456a2339",
   "metadata": {},
   "outputs": [],
   "source": [
    "rf_train_predicted = rf_model.predict(X_train)\n",
    "rf_test_predicted = rf_model.predict(X_test)"
   ]
  },
  {
   "cell_type": "code",
   "execution_count": null,
   "id": "82d474da",
   "metadata": {},
   "outputs": [],
   "source": [
    "# Roc Auc Score\n",
    "ra_score_rf_train = roc_auc_score(y_train,rf_train_predicted)\n",
    "print(f'The Roc-Auc Score :{ra_score_rf_train}')\n",
    "ra_score_rf_test = roc_auc_score(y_test,rf_test_predicted)\n",
    "print(f'The Roc-Auc Score : {ra_score_rf_test}\\n')\n",
    "\n",
    "\n",
    "# F1 score\n",
    "rf_f1_score_train = f1_score(y_train,rf_train_predicted)\n",
    "print(f'The f1 score for Train Data: {rf_f1_score_train}')\n",
    "rf_f1_score_test = f1_score(y_test,dt_test_predicted)\n",
    "print(f'The f1 score for Test Data: {rf_f1_score_test}\\n')\n",
    "\n",
    "# Precision Score \n",
    "rf_precision_score_train = precision_score(y_train,rf_train_predicted)\n",
    "print(f'The Precision score for Train Data: {rf_precision_score_train}')\n",
    "rf_precision_score_test =precision_score(y_test,rf_test_predicted)\n",
    "print(f'The Precision score for Test Data: {rf_precision_score_test}\\n')\n",
    "\n",
    "#Recall \n",
    "rf_recall_score_train = recall_score(y_train,rf_train_predicted)\n",
    "print(f'The recall score for Train Data: {rf_recall_score_train}')\n",
    "rf_recall_score_test = recall_score(y_test,rf_test_predicted)\n",
    "print(f'The recall score for Test Data: {rf_recall_score_test}\\n')\n",
    "\n",
    "# Accuracy Score\n",
    "rf_acc_score_train = accuracy_score(y_train,rf_train_predicted)\n",
    "print(f'The Accuracy score for Train Data: {rf_acc_score_train}')\n",
    "rf_acc_score_test = accuracy_score(y_test,rf_test_predicted)\n",
    "print(f'The Accuracy score for Test Data: {rf_acc_score_test}')"
   ]
  },
  {
   "cell_type": "code",
   "execution_count": null,
   "id": "1209cd87",
   "metadata": {},
   "outputs": [],
   "source": [
    "x_rf_cf_train = confusion_matrix(y_train,rf_train_predicted)\n",
    "print(x_rf_cf_train)\n",
    "sns.heatmap(x_rf_cf_train,annot=True,annot_kws={'size':26},fmt='g',cmap='YlGnBu')\n",
    "plt.title('Confusion Matrix of Train Data.')"
   ]
  },
  {
   "cell_type": "code",
   "execution_count": null,
   "id": "d54c3e03",
   "metadata": {},
   "outputs": [],
   "source": [
    "x_rf_cf_test = confusion_matrix(y_test,rf_test_predicted)\n",
    "print(x_rf_cf_test)\n",
    "sns.heatmap(x_rf_cf_test,annot=True,annot_kws={'size':26},fmt='g',cmap='YlGnBu')\n",
    "plt.title('Confusion Matrix of Test Data.')"
   ]
  },
  {
   "cell_type": "markdown",
   "id": "a72710db",
   "metadata": {},
   "source": [
    "## ADA Boost:"
   ]
  },
  {
   "cell_type": "code",
   "execution_count": null,
   "id": "3d2b8f37",
   "metadata": {},
   "outputs": [],
   "source": [
    "ada_model = AdaBoostClassifier()\n",
    "ada_params = [{'n_estimators':np.arange(50,200,50),'learning_rate':np.arange(0.1,1.0,.1)}]\n",
    "\n",
    "ada_gridsearch = GridSearchCV(ada_model,ada_params,cv=4)\n",
    "ada_gridsearch.fit(X_train,y_train)\n",
    "\n",
    "ada_model = ada_gridsearch.best_estimator_\n",
    "print(f'The ADA Boosting Model is : {ada_model}')\n",
    "\n",
    "print(f'The Accuracy score for Train Dataset: {ada_model.score(X_train,y_train)}')\n",
    "print(f'The Accuracy score for Test Dataset: {ada_model.score(X_test,y_test)}')"
   ]
  },
  {
   "cell_type": "code",
   "execution_count": null,
   "id": "f69966fe",
   "metadata": {},
   "outputs": [],
   "source": [
    "ada_train_predicted = ada_model.predict(X_train)\n",
    "ada_test_predicted = ada_model.predict(X_test)"
   ]
  },
  {
   "cell_type": "code",
   "execution_count": null,
   "id": "28eb2879",
   "metadata": {},
   "outputs": [],
   "source": [
    "# Roc Auc Score\n",
    "ra_score_ada_train = roc_auc_score(y_train,ada_train_predicted)\n",
    "print(f'The Roc-Auc Score :{ra_score_ada_train}')\n",
    "ra_score_ada_test = roc_auc_score(y_test,ada_test_predicted)\n",
    "print(f'The Roc-Auc Score : {ra_score_ada_test}\\n')\n",
    "\n",
    "\n",
    "# F1 score\n",
    "ada_f1_score_train = f1_score(y_train,ada_train_predicted)\n",
    "print(f'The f1 score for Train Data: {ada_f1_score_train}')\n",
    "ada_f1_score_test = f1_score(y_test,ada_test_predicted)\n",
    "print(f'The f1 score for Test Data: {ada_f1_score_test}\\n')\n",
    "\n",
    "# Precision Score \n",
    "ada_precision_score_train = precision_score(y_train,ada_train_predicted)\n",
    "print(f'The Precision score for Train Data: {ada_precision_score_train}')\n",
    "ada_precision_score_test =precision_score(y_test,ada_test_predicted)\n",
    "print(f'The Precision score for Test Data: {ada_precision_score_test}\\n')\n",
    "\n",
    "#Recall \n",
    "ada_recall_score_train = recall_score(y_train,ada_train_predicted)\n",
    "print(f'The recall score for Train Data: {ada_recall_score_train}')\n",
    "ada_recall_score_test = recall_score(y_test,ada_test_predicted)\n",
    "print(f'The recall score for Test Data: {ada_recall_score_test}\\n')\n",
    "\n",
    "# Accuracy Score\n",
    "ada_acc_score_train = accuracy_score(y_train,ada_train_predicted)\n",
    "print(f'The Accuracy score for Train Data: {ada_acc_score_train}')\n",
    "ada_acc_score_test = accuracy_score(y_test,ada_test_predicted)\n",
    "print(f'The Accuracy score for Test Data: {ada_acc_score_test}')"
   ]
  },
  {
   "cell_type": "code",
   "execution_count": null,
   "id": "b582b4bb",
   "metadata": {},
   "outputs": [],
   "source": [
    "x_ada_cf_train = confusion_matrix(y_train,ada_train_predicted)\n",
    "print(x_ada_cf_train)\n",
    "sns.heatmap(x_ada_cf_train,annot=True,annot_kws={'size':26},fmt='g',cmap='YlGnBu')\n",
    "plt.title('Confusion Matrix of Train Data.')"
   ]
  },
  {
   "cell_type": "code",
   "execution_count": null,
   "id": "94665ea5",
   "metadata": {},
   "outputs": [],
   "source": [
    "x_ada_cf_test = confusion_matrix(y_test,ada_test_predicted)\n",
    "print(x_ada_cf_test)\n",
    "sns.heatmap(x_ada_cf_test,annot=True,annot_kws={'size':26},fmt='g',cmap='YlGnBu')\n",
    "plt.title('Confusion Matrix of Test Data.')"
   ]
  },
  {
   "cell_type": "code",
   "execution_count": null,
   "id": "1c890485",
   "metadata": {},
   "outputs": [],
   "source": []
  },
  {
   "cell_type": "markdown",
   "id": "8fa60463",
   "metadata": {},
   "source": [
    "## XG Boosting:"
   ]
  },
  {
   "cell_type": "code",
   "execution_count": null,
   "id": "5e51a5b3",
   "metadata": {},
   "outputs": [],
   "source": [
    "xgb_model = xgb.XGBClassifier(eval_metrics='logloss')\n",
    "xgb_params = [{'n_estimators':np.arange(50,300,50),'max_depth':np.arange(2,10,1),'learning_rate':np.arange(0.1,1.0,0.1)}]\n",
    "\n",
    "xgb_grid = GridSearchCV(xgb_model,xgb_params,cv=4)\n",
    "xgb_grid.fit(X_train,y_train)\n",
    "\n",
    "xgb_model = xgb_grid.best_estimator_\n",
    "print(f'The XGB Model is :{xgb_model}')\n",
    "\n",
    "print(f'The Accuracy score for Train Dataset: {xgb_model.score(X_train,y_train)}')\n",
    "print(f'The Accuracy score for Test Dataset: {xgb_model.score(X_test,y_test)}')"
   ]
  },
  {
   "cell_type": "code",
   "execution_count": null,
   "id": "4fc98fb7",
   "metadata": {},
   "outputs": [],
   "source": [
    "xgb_train_predicted = xgb_model.predict(X_train)\n",
    "xgb_test_predicted = xgb_model.predict(X_test)"
   ]
  },
  {
   "cell_type": "code",
   "execution_count": null,
   "id": "fde3531d",
   "metadata": {},
   "outputs": [],
   "source": [
    "# Roc Auc Score\n",
    "ra_score_xgb_train = roc_auc_score(y_train,xgb_train_predicted)\n",
    "print(f'The Roc-Auc Score :{ra_score_xgb_train}')\n",
    "ra_score_xgb_test = roc_auc_score(y_test,xgb_test_predicted)\n",
    "print(f'The Roc-Auc Score : {ra_score_xgb_test}\\n')\n",
    "\n",
    "\n",
    "# F1 score\n",
    "xgb_f1_score_train = f1_score(y_train,xgb_train_predicted)\n",
    "print(f'The f1 score for Train Data: {xgb_f1_score_train}')\n",
    "xgb_f1_score_test = f1_score(y_test,xgb_test_predicted)\n",
    "print(f'The f1 score for Test Data: {xgb_f1_score_test}\\n')\n",
    "\n",
    "# Precision Score \n",
    "xgb_precision_score_train = precision_score(y_train,xgb_train_predicted)\n",
    "print(f'The Precision score for Train Data: {xgb_precision_score_train}')\n",
    "xgb_precision_score_test =precision_score(y_test,xgb_test_predicted)\n",
    "print(f'The Precision score for Test Data: {xgb_precision_score_test}\\n')\n",
    "\n",
    "#Recall \n",
    "xgb_recall_score_train = recall_score(y_train,xgb_train_predicted)\n",
    "print(f'The recall score for Train Data: {xgb_recall_score_train}')\n",
    "xgb_recall_score_test = recall_score(y_test,xgb_test_predicted)\n",
    "print(f'The recall score for Test Data: {xgb_recall_score_test}\\n')\n",
    "\n",
    "# Accuracy Score\n",
    "xgb_acc_score_train = accuracy_score(y_train,xgb_train_predicted)\n",
    "print(f'The Accuracy score for Train Data: {xgb_acc_score_train}')\n",
    "xgb_acc_score_test = accuracy_score(y_test,xgb_test_predicted)\n",
    "print(f'The Accuracy score for Test Data: {xgb_acc_score_test}')"
   ]
  },
  {
   "cell_type": "code",
   "execution_count": null,
   "id": "59202189",
   "metadata": {},
   "outputs": [],
   "source": [
    "x_xgb_cf_train = confusion_matrix(y_train,xgb_train_predicted)\n",
    "print(x_rf_cf_train)\n",
    "sns.heatmap(x_xgb_cf_train,annot=True,annot_kws={'size':26},fmt='g',cmap='YlGnBu')\n",
    "plt.title('Confusion Matrix of Train Data.')"
   ]
  },
  {
   "cell_type": "code",
   "execution_count": null,
   "id": "1f9d5952",
   "metadata": {},
   "outputs": [],
   "source": [
    "x_ada_cf_test = confusion_matrix(y_test,ada_test_predicted)\n",
    "print(x_ada_cf_test)\n",
    "sns.heatmap(x_ada_cf_test,annot=True,annot_kws={'size':26},fmt='g',cmap='YlGnBu')\n",
    "plt.title('Confusion Matrix of Test Data.')"
   ]
  },
  {
   "cell_type": "code",
   "execution_count": null,
   "id": "f5d40fa2",
   "metadata": {},
   "outputs": [],
   "source": [
    "pip install prettytable"
   ]
  },
  {
   "cell_type": "code",
   "execution_count": null,
   "id": "37cf12ea",
   "metadata": {},
   "outputs": [],
   "source": []
  },
  {
   "cell_type": "code",
   "execution_count": null,
   "id": "a86f4aa4",
   "metadata": {},
   "outputs": [],
   "source": []
  },
  {
   "cell_type": "code",
   "execution_count": null,
   "id": "09c1b1e9",
   "metadata": {},
   "outputs": [],
   "source": []
  },
  {
   "cell_type": "markdown",
   "id": "9a89f259",
   "metadata": {},
   "source": [
    "## METRICS COMPARISONS:\n"
   ]
  },
  {
   "cell_type": "code",
   "execution_count": null,
   "id": "8648f373",
   "metadata": {},
   "outputs": [],
   "source": [
    "columns = (['ALGORITHM','AUC ROC SCORE','ACCURACY','F1','PRECISION','RECALL'])\n",
    "mytable = PrettyTable()\n",
    "\n",
    "mytable.add_column(columns[0],['KNN','Logistic Regression','Decision Tree','Random Forest','ADA Boost','XG Boost'])\n",
    "mytable.add_column(columns[1],[ra_score_knn_train,ra_score_lr_train,ra_score_dt_train,ra_score_rf_train,ra_score_ada_train,ra_score_xgb_train])\n",
    "mytable.add_column(columns[2],[knn_acc_score_train,lr_acc_score_train,dt_acc_score_train,rf_acc_score_train,ada_acc_score_train,xgb_acc_score_train])\n",
    "mytable.add_column(columns[3],[knn_f1_score_train,lr_f1_score_train,dt_f1_score_train,rf_f1_score_train,ada_f1_score_train,xgb_f1_score_train])\n",
    "mytable.add_column(columns[4],[knn_precision_score_train,lr_precision_score_train,dt_precision_score_train,rf_precision_score_train,ada_precision_score_train,xgb_precision_score_train])\n",
    "mytable.add_column(columns[5],[knn_recall_score_train,lr_recall_score_train,dt_recall_score_train,rf_recall_score_train,ada_recall_score_train,xgb_recall_score_train])\n",
    "\n",
    "\n",
    "print('The Metrics Table for Training Dataset:')\n",
    "print(mytable)\n",
    "\n",
    "\n",
    "data = mytable.get_string()\n",
    "with open('test.txt','w') as f:\n",
    "    f.write(str(mytable))"
   ]
  },
  {
   "cell_type": "code",
   "execution_count": null,
   "id": "e11d98e1",
   "metadata": {},
   "outputs": [],
   "source": [
    "columns = (['ALGORITHM','AUC ROC SCORE','ACCURACY','F1','PRECISION','RECALL'])\n",
    "mytable = PrettyTable()\n",
    "\n",
    "mytable.add_column(columns[0],['KNN','Logistic Regression','Decision Tree','Random Forest','ADA Boost','XG Boost'])\n",
    "mytable.add_column(columns[1],[ra_score_knn_test,ra_score_lr_test,ra_score_dt_test,ra_score_rf_test,ra_score_ada_test,ra_score_xgb_test])\n",
    "mytable.add_column(columns[2],[knn_acc_score_test,lr_acc_score_test,dt_acc_score_test,rf_acc_score_test,ada_acc_score_test,xgb_acc_score_test])\n",
    "mytable.add_column(columns[3],[knn_f1_score_test,lr_f1_score_test,dt_f1_score_test,rf_f1_score_test,ada_f1_score_test,xgb_f1_score_test])\n",
    "mytable.add_column(columns[4],[knn_precision_score_test,lr_precision_score_test,dt_precision_score_test,rf_precision_score_test,ada_precision_score_test,xgb_precision_score_test])\n",
    "mytable.add_column(columns[5],[knn_recall_score_test,lr_recall_score_test,dt_recall_score_test,rf_recall_score_test,ada_recall_score_test,xgb_recall_score_test])\n",
    "\n",
    "print('The Metrics Table for Test Dataset:')\n",
    "print(mytable)\n",
    "\n",
    "data = mytable.get_string()\n",
    "with open('test.txt','w') as f:\n",
    "    f.write(str(mytable))"
   ]
  },
  {
   "cell_type": "markdown",
   "id": "4ae90443",
   "metadata": {},
   "source": [
    "# Observations:"
   ]
  },
  {
   "cell_type": "markdown",
   "id": "e19767c9",
   "metadata": {},
   "source": [
    "    The Algorithm Model of Random Forest is showing the best outcome results, metrics results for both training and testing datasets."
   ]
  },
  {
   "cell_type": "code",
   "execution_count": null,
   "id": "91fe77a3",
   "metadata": {},
   "outputs": [],
   "source": []
  }
 ],
 "metadata": {
  "kernelspec": {
   "display_name": "Python 3 (ipykernel)",
   "language": "python",
   "name": "python3"
  },
  "language_info": {
   "codemirror_mode": {
    "name": "ipython",
    "version": 3
   },
   "file_extension": ".py",
   "mimetype": "text/x-python",
   "name": "python",
   "nbconvert_exporter": "python",
   "pygments_lexer": "ipython3",
   "version": "3.11.5"
  }
 },
 "nbformat": 4,
 "nbformat_minor": 5
}
